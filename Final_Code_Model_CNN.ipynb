{
  "cells": [
    {
      "cell_type": "markdown",
      "metadata": {
        "id": "view-in-github",
        "colab_type": "text"
      },
      "source": [
        "<a href=\"https://colab.research.google.com/github/FaldoFajri/aplikasi-web-deteksi-covid19/blob/main/Final_Code_Model_CNN.ipynb\" target=\"_parent\"><img src=\"https://colab.research.google.com/assets/colab-badge.svg\" alt=\"Open In Colab\"/></a>"
      ]
    },
    {
      "cell_type": "code",
      "source": [
        "!git clone https://github.com/FaldoFajri/tubes-mesinbelajar.git"
      ],
      "metadata": {
        "id": "xI1EEYZ98gxg"
      },
      "execution_count": null,
      "outputs": []
    },
    {
      "cell_type": "code",
      "execution_count": null,
      "metadata": {
        "id": "gYdad9BCThEz"
      },
      "outputs": [],
      "source": [
        "import numpy as np # linear algebra\n",
        "import pandas as pd # data processing, CSV file I/O (e.g. pd.read_csv)\n",
        "\n",
        "import os\n",
        "for dirname, _, filenames in os.walk('/kaggle/input'):\n",
        "    for filename in filenames:\n",
        "        print(os.path.join(dirname, filename))\n",
        "\n",
        "import pandas as pd\n",
        "import numpy as np \n",
        "import seaborn as sns\n",
        "import matplotlib.pyplot as plt \n",
        "import warnings\n",
        "warnings.filterwarnings('ignore')\n",
        "\n",
        "from tensorflow.keras.preprocessing.image import ImageDataGenerator\n",
        "from tensorflow.keras.models import Sequential\n",
        "from tensorflow.keras.layers import Activation, Dropout, Flatten, Dense, Conv2D, MaxPooling2D\n",
        "from tensorflow.keras.callbacks import EarlyStopping, ModelCheckpoint, ReduceLROnPlateau\n",
        "\n",
        "%matplotlib inline"
      ]
    },
    {
      "cell_type": "code",
      "execution_count": null,
      "metadata": {
        "id": "KZUVHCeeWvyY"
      },
      "outputs": [],
      "source": [
        "test_dir = \"/content/tubes-mesinbelajar/dataset/test\"\n",
        "train_dir = \"/content/tubes-mesinbelajar/dataset/train\"\n",
        "val_dir = \"/content/tubes-mesinbelajar/dataset/val\""
      ]
    },
    {
      "cell_type": "code",
      "execution_count": null,
      "metadata": {
        "id": "TzJOnTSnXNCh"
      },
      "outputs": [],
      "source": [
        "image_shape = (100,100,3)\n",
        "image_gen = ImageDataGenerator(rotation_range=20,\n",
        "                               width_shift_range=0.10,\n",
        "                               height_shift_range=0.10,\n",
        "                               rescale=1/255,\n",
        "                               shear_range=0.1,\n",
        "                               zoom_range=0.1,\n",
        "                               horizontal_flip=True,\n",
        "                               fill_mode='nearest')"
      ]
    },
    {
      "cell_type": "code",
      "execution_count": null,
      "metadata": {
        "colab": {
          "base_uri": "https://localhost:8080/"
        },
        "id": "pmU0UlkTXPJF",
        "outputId": "942bf31a-dfba-4a3c-da11-325aa5aa0e6b"
      },
      "outputs": [
        {
          "name": "stdout",
          "output_type": "stream",
          "text": [
            "Model: \"sequential_2\"\n",
            "_________________________________________________________________\n",
            " Layer (type)                Output Shape              Param #   \n",
            "=================================================================\n",
            " conv2d_6 (Conv2D)           (None, 98, 98, 128)       3584      \n",
            "                                                                 \n",
            " max_pooling2d_6 (MaxPooling  (None, 49, 49, 128)      0         \n",
            " 2D)                                                             \n",
            "                                                                 \n",
            " conv2d_7 (Conv2D)           (None, 47, 47, 64)        73792     \n",
            "                                                                 \n",
            " max_pooling2d_7 (MaxPooling  (None, 23, 23, 64)       0         \n",
            " 2D)                                                             \n",
            "                                                                 \n",
            " conv2d_8 (Conv2D)           (None, 21, 21, 32)        18464     \n",
            "                                                                 \n",
            " max_pooling2d_8 (MaxPooling  (None, 10, 10, 32)       0         \n",
            " 2D)                                                             \n",
            "                                                                 \n",
            " flatten_2 (Flatten)         (None, 3200)              0         \n",
            "                                                                 \n",
            " dense_4 (Dense)             (None, 64)                204864    \n",
            "                                                                 \n",
            " dropout_2 (Dropout)         (None, 64)                0         \n",
            "                                                                 \n",
            " dense_5 (Dense)             (None, 2)                 130       \n",
            "                                                                 \n",
            "=================================================================\n",
            "Total params: 300,834\n",
            "Trainable params: 300,834\n",
            "Non-trainable params: 0\n",
            "_________________________________________________________________\n"
          ]
        }
      ],
      "source": [
        "model = Sequential()\n",
        "\n",
        "model.add(Conv2D(filters=128, kernel_size=(3,3),input_shape=image_shape, activation='relu',))\n",
        "model.add(MaxPooling2D(pool_size=(2, 2)))\n",
        "\n",
        "model.add(Conv2D(filters=64, kernel_size=(3,3),input_shape=image_shape, activation='relu',))\n",
        "model.add(MaxPooling2D(pool_size=(2, 2)))\n",
        "\n",
        "model.add(Conv2D(filters=32, kernel_size=(3,3),input_shape=image_shape, activation='relu',))\n",
        "model.add(MaxPooling2D(pool_size=(2, 2)))\n",
        "\n",
        "\n",
        "model.add(Flatten())\n",
        "\n",
        "\n",
        "model.add(Dense(64, activation = 'relu'))\n",
        "model.add(Dropout(0.5))\n",
        "\n",
        "model.add(Dense(2, activation = 'softmax'))\n",
        "model.compile(loss='categorical_crossentropy',\n",
        "              optimizer='adam',\n",
        "              metrics=['accuracy'])\n",
        "model.summary()"
      ]
    },
    {
      "cell_type": "code",
      "execution_count": null,
      "metadata": {
        "id": "gXWwn0muC_vz"
      },
      "outputs": [],
      "source": [
        "#early_stop = EarlyStopping(monitor='val_loss',patience=2, verbose = 1)\n",
        "\n",
        "best_model_path = 'ModelCNN_terbaru.h5'\n",
        "checkpoint_callback = ModelCheckpoint(best_model_path, monitor='val_accuracy', save_best_only=True, verbose=1)\n",
        "batch_size = 64"
      ]
    },
    {
      "cell_type": "code",
      "execution_count": null,
      "metadata": {
        "colab": {
          "base_uri": "https://localhost:8080/"
        },
        "id": "Ptlvfg8zXW7N",
        "outputId": "308df22c-e982-4b39-9536-a1b40ce204b1"
      },
      "outputs": [
        {
          "name": "stdout",
          "output_type": "stream",
          "text": [
            "Found 1511 images belonging to 2 classes.\n"
          ]
        }
      ],
      "source": [
        "train_image_gen = image_gen.flow_from_directory(train_dir,\n",
        "                                               target_size=(100,100),\n",
        "                                               batch_size=batch_size,\n",
        "                                               class_mode='categorical')"
      ]
    },
    {
      "cell_type": "code",
      "execution_count": null,
      "metadata": {
        "colab": {
          "base_uri": "https://localhost:8080/"
        },
        "id": "PxyLTlgtXe1R",
        "outputId": "770c3078-0b96-46b7-a3df-219344fbefc0"
      },
      "outputs": [
        {
          "name": "stdout",
          "output_type": "stream",
          "text": [
            "Found 215 images belonging to 2 classes.\n"
          ]
        }
      ],
      "source": [
        "val_image_gen = image_gen.flow_from_directory(val_dir,\n",
        "                                               target_size=(100,100),\n",
        "                                               batch_size=batch_size,\n",
        "                                               class_mode='categorical',shuffle=False)"
      ]
    },
    {
      "cell_type": "code",
      "execution_count": null,
      "metadata": {
        "id": "K_k693Nx8dNz",
        "outputId": "afc270b5-c7fd-4572-f2e2-d39bf2e0f7a5"
      },
      "outputs": [
        {
          "name": "stdout",
          "output_type": "stream",
          "text": [
            "Found 432 images belonging to 2 classes.\n"
          ]
        }
      ],
      "source": [
        "test_image_gen = image_gen.flow_from_directory(test_dir,\n",
        "                                               target_size=(100,100),\n",
        "                                               batch_size=batch_size,\n",
        "                                               class_mode='categorical',shuffle=False)"
      ]
    },
    {
      "cell_type": "code",
      "execution_count": null,
      "metadata": {
        "colab": {
          "base_uri": "https://localhost:8080/"
        },
        "id": "p2fMSTjBXkQt",
        "outputId": "9c3c4095-96ef-49e1-d600-991f608e9700"
      },
      "outputs": [
        {
          "name": "stdout",
          "output_type": "stream",
          "text": [
            "{'covid': 0, 'normal': 1}\n",
            "{'covid': 0, 'normal': 1}\n"
          ]
        }
      ],
      "source": [
        "print(train_image_gen.class_indices)\n",
        "print(val_image_gen.class_indices)"
      ]
    },
    {
      "cell_type": "code",
      "execution_count": null,
      "metadata": {
        "colab": {
          "base_uri": "https://localhost:8080/"
        },
        "id": "aqJ515ytXwrN",
        "outputId": "cc5f1c51-2952-4d8e-987b-2a93a1a5d9dc"
      },
      "outputs": [
        {
          "name": "stdout",
          "output_type": "stream",
          "text": [
            "Epoch 1/100\n",
            "24/24 [==============================] - ETA: 0s - loss: 0.5896 - accuracy: 0.7340\n",
            "Epoch 1: val_accuracy improved from -inf to 0.73488, saving model to ModelCNN_terbaru.h5\n",
            "24/24 [==============================] - 54s 2s/step - loss: 0.5896 - accuracy: 0.7340 - val_loss: 0.5134 - val_accuracy: 0.7349\n",
            "Epoch 2/100\n",
            "24/24 [==============================] - ETA: 0s - loss: 0.3656 - accuracy: 0.8259\n",
            "Epoch 2: val_accuracy improved from 0.73488 to 0.93023, saving model to ModelCNN_terbaru.h5\n",
            "24/24 [==============================] - 37s 2s/step - loss: 0.3656 - accuracy: 0.8259 - val_loss: 0.2082 - val_accuracy: 0.9302\n",
            "Epoch 3/100\n",
            "24/24 [==============================] - ETA: 0s - loss: 0.2905 - accuracy: 0.8981\n",
            "Epoch 3: val_accuracy did not improve from 0.93023\n",
            "24/24 [==============================] - 36s 2s/step - loss: 0.2905 - accuracy: 0.8981 - val_loss: 0.1767 - val_accuracy: 0.9256\n",
            "Epoch 4/100\n",
            "24/24 [==============================] - ETA: 0s - loss: 0.2174 - accuracy: 0.9345\n",
            "Epoch 4: val_accuracy improved from 0.93023 to 0.95349, saving model to ModelCNN_terbaru.h5\n",
            "24/24 [==============================] - 37s 2s/step - loss: 0.2174 - accuracy: 0.9345 - val_loss: 0.1481 - val_accuracy: 0.9535\n",
            "Epoch 5/100\n",
            "24/24 [==============================] - ETA: 0s - loss: 0.1993 - accuracy: 0.9371\n",
            "Epoch 5: val_accuracy improved from 0.95349 to 0.96744, saving model to ModelCNN_terbaru.h5\n",
            "24/24 [==============================] - 36s 1s/step - loss: 0.1993 - accuracy: 0.9371 - val_loss: 0.1397 - val_accuracy: 0.9674\n",
            "Epoch 6/100\n",
            "24/24 [==============================] - ETA: 0s - loss: 0.1646 - accuracy: 0.9431\n",
            "Epoch 6: val_accuracy did not improve from 0.96744\n",
            "24/24 [==============================] - 31s 1s/step - loss: 0.1646 - accuracy: 0.9431 - val_loss: 0.1258 - val_accuracy: 0.9535\n",
            "Epoch 7/100\n",
            "24/24 [==============================] - ETA: 0s - loss: 0.1774 - accuracy: 0.9464\n",
            "Epoch 7: val_accuracy improved from 0.96744 to 0.97674, saving model to ModelCNN_terbaru.h5\n",
            "24/24 [==============================] - 30s 1s/step - loss: 0.1774 - accuracy: 0.9464 - val_loss: 0.1216 - val_accuracy: 0.9767\n",
            "Epoch 8/100\n",
            "24/24 [==============================] - ETA: 0s - loss: 0.1605 - accuracy: 0.9510\n",
            "Epoch 8: val_accuracy did not improve from 0.97674\n",
            "24/24 [==============================] - 29s 1s/step - loss: 0.1605 - accuracy: 0.9510 - val_loss: 0.1124 - val_accuracy: 0.9581\n",
            "Epoch 9/100\n",
            "24/24 [==============================] - ETA: 0s - loss: 0.1338 - accuracy: 0.9583\n",
            "Epoch 9: val_accuracy did not improve from 0.97674\n",
            "24/24 [==============================] - 30s 1s/step - loss: 0.1338 - accuracy: 0.9583 - val_loss: 0.1181 - val_accuracy: 0.9674\n",
            "Epoch 10/100\n",
            "24/24 [==============================] - ETA: 0s - loss: 0.1196 - accuracy: 0.9616\n",
            "Epoch 10: val_accuracy did not improve from 0.97674\n",
            "24/24 [==============================] - 29s 1s/step - loss: 0.1196 - accuracy: 0.9616 - val_loss: 0.1255 - val_accuracy: 0.9535\n",
            "Epoch 11/100\n",
            "24/24 [==============================] - ETA: 0s - loss: 0.1268 - accuracy: 0.9570\n",
            "Epoch 11: val_accuracy did not improve from 0.97674\n",
            "24/24 [==============================] - 29s 1s/step - loss: 0.1268 - accuracy: 0.9570 - val_loss: 0.0998 - val_accuracy: 0.9767\n",
            "Epoch 12/100\n",
            "24/24 [==============================] - ETA: 0s - loss: 0.1070 - accuracy: 0.9649\n",
            "Epoch 12: val_accuracy did not improve from 0.97674\n",
            "24/24 [==============================] - 29s 1s/step - loss: 0.1070 - accuracy: 0.9649 - val_loss: 0.0779 - val_accuracy: 0.9721\n",
            "Epoch 13/100\n",
            "24/24 [==============================] - ETA: 0s - loss: 0.1315 - accuracy: 0.9596\n",
            "Epoch 13: val_accuracy improved from 0.97674 to 0.98605, saving model to ModelCNN_terbaru.h5\n",
            "24/24 [==============================] - 29s 1s/step - loss: 0.1315 - accuracy: 0.9596 - val_loss: 0.0833 - val_accuracy: 0.9860\n",
            "Epoch 14/100\n",
            "24/24 [==============================] - ETA: 0s - loss: 0.1132 - accuracy: 0.9669\n",
            "Epoch 14: val_accuracy did not improve from 0.98605\n",
            "24/24 [==============================] - 30s 1s/step - loss: 0.1132 - accuracy: 0.9669 - val_loss: 0.0782 - val_accuracy: 0.9721\n",
            "Epoch 15/100\n",
            "24/24 [==============================] - ETA: 0s - loss: 0.1345 - accuracy: 0.9570\n",
            "Epoch 15: val_accuracy did not improve from 0.98605\n",
            "24/24 [==============================] - 34s 1s/step - loss: 0.1345 - accuracy: 0.9570 - val_loss: 0.1282 - val_accuracy: 0.9628\n",
            "Epoch 16/100\n",
            "24/24 [==============================] - ETA: 0s - loss: 0.1179 - accuracy: 0.9550\n",
            "Epoch 16: val_accuracy did not improve from 0.98605\n",
            "24/24 [==============================] - 32s 1s/step - loss: 0.1179 - accuracy: 0.9550 - val_loss: 0.1396 - val_accuracy: 0.9535\n",
            "Epoch 17/100\n",
            "24/24 [==============================] - ETA: 0s - loss: 0.1029 - accuracy: 0.9709\n",
            "Epoch 17: val_accuracy did not improve from 0.98605\n",
            "24/24 [==============================] - 30s 1s/step - loss: 0.1029 - accuracy: 0.9709 - val_loss: 0.1174 - val_accuracy: 0.9721\n",
            "Epoch 18/100\n",
            "24/24 [==============================] - ETA: 0s - loss: 0.1113 - accuracy: 0.9570\n",
            "Epoch 18: val_accuracy did not improve from 0.98605\n",
            "24/24 [==============================] - 31s 1s/step - loss: 0.1113 - accuracy: 0.9570 - val_loss: 0.0939 - val_accuracy: 0.9814\n",
            "Epoch 19/100\n",
            "24/24 [==============================] - ETA: 0s - loss: 0.1220 - accuracy: 0.9510\n",
            "Epoch 19: val_accuracy did not improve from 0.98605\n",
            "24/24 [==============================] - 31s 1s/step - loss: 0.1220 - accuracy: 0.9510 - val_loss: 0.1135 - val_accuracy: 0.9674\n",
            "Epoch 20/100\n",
            "24/24 [==============================] - ETA: 0s - loss: 0.0975 - accuracy: 0.9696\n",
            "Epoch 20: val_accuracy did not improve from 0.98605\n",
            "24/24 [==============================] - 30s 1s/step - loss: 0.0975 - accuracy: 0.9696 - val_loss: 0.0564 - val_accuracy: 0.9860\n",
            "Epoch 21/100\n",
            "24/24 [==============================] - ETA: 0s - loss: 0.0753 - accuracy: 0.9742\n",
            "Epoch 21: val_accuracy did not improve from 0.98605\n",
            "24/24 [==============================] - 29s 1s/step - loss: 0.0753 - accuracy: 0.9742 - val_loss: 0.0527 - val_accuracy: 0.9767\n",
            "Epoch 22/100\n",
            "24/24 [==============================] - ETA: 0s - loss: 0.0690 - accuracy: 0.9782\n",
            "Epoch 22: val_accuracy did not improve from 0.98605\n",
            "24/24 [==============================] - 29s 1s/step - loss: 0.0690 - accuracy: 0.9782 - val_loss: 0.0982 - val_accuracy: 0.9581\n",
            "Epoch 23/100\n",
            "24/24 [==============================] - ETA: 0s - loss: 0.0948 - accuracy: 0.9702\n",
            "Epoch 23: val_accuracy did not improve from 0.98605\n",
            "24/24 [==============================] - 29s 1s/step - loss: 0.0948 - accuracy: 0.9702 - val_loss: 0.0877 - val_accuracy: 0.9721\n",
            "Epoch 24/100\n",
            "24/24 [==============================] - ETA: 0s - loss: 0.0875 - accuracy: 0.9676\n",
            "Epoch 24: val_accuracy did not improve from 0.98605\n",
            "24/24 [==============================] - 30s 1s/step - loss: 0.0875 - accuracy: 0.9676 - val_loss: 0.0687 - val_accuracy: 0.9721\n",
            "Epoch 25/100\n",
            "24/24 [==============================] - ETA: 0s - loss: 0.0748 - accuracy: 0.9788\n",
            "Epoch 25: val_accuracy did not improve from 0.98605\n",
            "24/24 [==============================] - 31s 1s/step - loss: 0.0748 - accuracy: 0.9788 - val_loss: 0.0488 - val_accuracy: 0.9860\n",
            "Epoch 26/100\n",
            "24/24 [==============================] - ETA: 0s - loss: 0.0501 - accuracy: 0.9815\n",
            "Epoch 26: val_accuracy did not improve from 0.98605\n",
            "24/24 [==============================] - 30s 1s/step - loss: 0.0501 - accuracy: 0.9815 - val_loss: 0.0749 - val_accuracy: 0.9814\n",
            "Epoch 27/100\n",
            "24/24 [==============================] - ETA: 0s - loss: 0.0694 - accuracy: 0.9768\n",
            "Epoch 27: val_accuracy did not improve from 0.98605\n",
            "24/24 [==============================] - 30s 1s/step - loss: 0.0694 - accuracy: 0.9768 - val_loss: 0.0945 - val_accuracy: 0.9767\n",
            "Epoch 28/100\n",
            "24/24 [==============================] - ETA: 0s - loss: 0.0793 - accuracy: 0.9749\n",
            "Epoch 28: val_accuracy did not improve from 0.98605\n",
            "24/24 [==============================] - 33s 1s/step - loss: 0.0793 - accuracy: 0.9749 - val_loss: 0.0531 - val_accuracy: 0.9814\n",
            "Epoch 29/100\n",
            "24/24 [==============================] - ETA: 0s - loss: 0.0643 - accuracy: 0.9815\n",
            "Epoch 29: val_accuracy did not improve from 0.98605\n",
            "24/24 [==============================] - 34s 1s/step - loss: 0.0643 - accuracy: 0.9815 - val_loss: 0.0504 - val_accuracy: 0.9814\n"
          ]
        },
        {
          "name": "stdout",
          "output_type": "stream",
          "text": [
            "Epoch 30/100\n",
            "24/24 [==============================] - ETA: 0s - loss: 0.0589 - accuracy: 0.9815\n",
            "Epoch 30: val_accuracy did not improve from 0.98605\n",
            "24/24 [==============================] - 32s 1s/step - loss: 0.0589 - accuracy: 0.9815 - val_loss: 0.0492 - val_accuracy: 0.9860\n",
            "Epoch 31/100\n",
            "24/24 [==============================] - ETA: 0s - loss: 0.0701 - accuracy: 0.9749\n",
            "Epoch 31: val_accuracy did not improve from 0.98605\n",
            "24/24 [==============================] - 30s 1s/step - loss: 0.0701 - accuracy: 0.9749 - val_loss: 0.0624 - val_accuracy: 0.9860\n",
            "Epoch 32/100\n",
            "24/24 [==============================] - ETA: 0s - loss: 0.0633 - accuracy: 0.9782\n",
            "Epoch 32: val_accuracy did not improve from 0.98605\n",
            "24/24 [==============================] - 32s 1s/step - loss: 0.0633 - accuracy: 0.9782 - val_loss: 0.0507 - val_accuracy: 0.9674\n",
            "Epoch 33/100\n",
            "24/24 [==============================] - ETA: 0s - loss: 0.0750 - accuracy: 0.9735\n",
            "Epoch 33: val_accuracy did not improve from 0.98605\n",
            "24/24 [==============================] - 30s 1s/step - loss: 0.0750 - accuracy: 0.9735 - val_loss: 0.0694 - val_accuracy: 0.9860\n",
            "Epoch 34/100\n",
            "24/24 [==============================] - ETA: 0s - loss: 0.0728 - accuracy: 0.9795\n",
            "Epoch 34: val_accuracy did not improve from 0.98605\n",
            "24/24 [==============================] - 29s 1s/step - loss: 0.0728 - accuracy: 0.9795 - val_loss: 0.0612 - val_accuracy: 0.9767\n",
            "Epoch 35/100\n",
            "24/24 [==============================] - ETA: 0s - loss: 0.0694 - accuracy: 0.9722\n",
            "Epoch 35: val_accuracy did not improve from 0.98605\n",
            "24/24 [==============================] - 29s 1s/step - loss: 0.0694 - accuracy: 0.9722 - val_loss: 0.0568 - val_accuracy: 0.9860\n",
            "Epoch 36/100\n",
            "24/24 [==============================] - ETA: 0s - loss: 0.0563 - accuracy: 0.9815\n",
            "Epoch 36: val_accuracy did not improve from 0.98605\n",
            "24/24 [==============================] - 29s 1s/step - loss: 0.0563 - accuracy: 0.9815 - val_loss: 0.0283 - val_accuracy: 0.9860\n",
            "Epoch 37/100\n",
            "24/24 [==============================] - ETA: 0s - loss: 0.0419 - accuracy: 0.9868\n",
            "Epoch 37: val_accuracy did not improve from 0.98605\n",
            "24/24 [==============================] - 29s 1s/step - loss: 0.0419 - accuracy: 0.9868 - val_loss: 0.0556 - val_accuracy: 0.9721\n",
            "Epoch 38/100\n",
            "24/24 [==============================] - ETA: 0s - loss: 0.0617 - accuracy: 0.9788\n",
            "Epoch 38: val_accuracy improved from 0.98605 to 0.99070, saving model to ModelCNN_terbaru.h5\n",
            "24/24 [==============================] - 30s 1s/step - loss: 0.0617 - accuracy: 0.9788 - val_loss: 0.0394 - val_accuracy: 0.9907\n",
            "Epoch 39/100\n",
            "24/24 [==============================] - ETA: 0s - loss: 0.0540 - accuracy: 0.9848\n",
            "Epoch 39: val_accuracy did not improve from 0.99070\n",
            "24/24 [==============================] - 29s 1s/step - loss: 0.0540 - accuracy: 0.9848 - val_loss: 0.0909 - val_accuracy: 0.9674\n",
            "Epoch 40/100\n",
            "24/24 [==============================] - ETA: 0s - loss: 0.0671 - accuracy: 0.9775\n",
            "Epoch 40: val_accuracy did not improve from 0.99070\n",
            "24/24 [==============================] - 29s 1s/step - loss: 0.0671 - accuracy: 0.9775 - val_loss: 0.0578 - val_accuracy: 0.9860\n",
            "Epoch 41/100\n",
            "24/24 [==============================] - ETA: 0s - loss: 0.0452 - accuracy: 0.9828\n",
            "Epoch 41: val_accuracy did not improve from 0.99070\n",
            "24/24 [==============================] - 31s 1s/step - loss: 0.0452 - accuracy: 0.9828 - val_loss: 0.0467 - val_accuracy: 0.9860\n",
            "Epoch 42/100\n",
            "24/24 [==============================] - ETA: 0s - loss: 0.0585 - accuracy: 0.9801\n",
            "Epoch 42: val_accuracy did not improve from 0.99070\n",
            "24/24 [==============================] - 32s 1s/step - loss: 0.0585 - accuracy: 0.9801 - val_loss: 0.0574 - val_accuracy: 0.9860\n",
            "Epoch 43/100\n",
            "24/24 [==============================] - ETA: 0s - loss: 0.0412 - accuracy: 0.9874\n",
            "Epoch 43: val_accuracy did not improve from 0.99070\n",
            "24/24 [==============================] - 29s 1s/step - loss: 0.0412 - accuracy: 0.9874 - val_loss: 0.0430 - val_accuracy: 0.9814\n",
            "Epoch 44/100\n",
            "24/24 [==============================] - ETA: 0s - loss: 0.0403 - accuracy: 0.9854\n",
            "Epoch 44: val_accuracy did not improve from 0.99070\n",
            "24/24 [==============================] - 29s 1s/step - loss: 0.0403 - accuracy: 0.9854 - val_loss: 0.0361 - val_accuracy: 0.9860\n",
            "Epoch 45/100\n",
            "24/24 [==============================] - ETA: 0s - loss: 0.0413 - accuracy: 0.9841\n",
            "Epoch 45: val_accuracy did not improve from 0.99070\n",
            "24/24 [==============================] - 29s 1s/step - loss: 0.0413 - accuracy: 0.9841 - val_loss: 0.0632 - val_accuracy: 0.9767\n",
            "Epoch 46/100\n",
            "24/24 [==============================] - ETA: 0s - loss: 0.0671 - accuracy: 0.9775\n",
            "Epoch 46: val_accuracy did not improve from 0.99070\n",
            "24/24 [==============================] - 29s 1s/step - loss: 0.0671 - accuracy: 0.9775 - val_loss: 0.0474 - val_accuracy: 0.9907\n",
            "Epoch 47/100\n",
            "24/24 [==============================] - ETA: 0s - loss: 0.0612 - accuracy: 0.9801\n",
            "Epoch 47: val_accuracy did not improve from 0.99070\n",
            "24/24 [==============================] - 29s 1s/step - loss: 0.0612 - accuracy: 0.9801 - val_loss: 0.0314 - val_accuracy: 0.9860\n",
            "Epoch 48/100\n",
            "24/24 [==============================] - ETA: 0s - loss: 0.0538 - accuracy: 0.9828\n",
            "Epoch 48: val_accuracy did not improve from 0.99070\n",
            "24/24 [==============================] - 29s 1s/step - loss: 0.0538 - accuracy: 0.9828 - val_loss: 0.0406 - val_accuracy: 0.9814\n",
            "Epoch 49/100\n",
            "24/24 [==============================] - ETA: 0s - loss: 0.0519 - accuracy: 0.9808\n",
            "Epoch 49: val_accuracy did not improve from 0.99070\n",
            "24/24 [==============================] - 29s 1s/step - loss: 0.0519 - accuracy: 0.9808 - val_loss: 0.0298 - val_accuracy: 0.9860\n",
            "Epoch 50/100\n",
            "24/24 [==============================] - ETA: 0s - loss: 0.0603 - accuracy: 0.9828\n",
            "Epoch 50: val_accuracy did not improve from 0.99070\n",
            "24/24 [==============================] - 29s 1s/step - loss: 0.0603 - accuracy: 0.9828 - val_loss: 0.0438 - val_accuracy: 0.9814\n",
            "Epoch 51/100\n",
            "24/24 [==============================] - ETA: 0s - loss: 0.0532 - accuracy: 0.9815\n",
            "Epoch 51: val_accuracy did not improve from 0.99070\n",
            "24/24 [==============================] - 29s 1s/step - loss: 0.0532 - accuracy: 0.9815 - val_loss: 0.0371 - val_accuracy: 0.9814\n",
            "Epoch 52/100\n",
            "24/24 [==============================] - ETA: 0s - loss: 0.0456 - accuracy: 0.9874\n",
            "Epoch 52: val_accuracy did not improve from 0.99070\n",
            "24/24 [==============================] - 29s 1s/step - loss: 0.0456 - accuracy: 0.9874 - val_loss: 0.0538 - val_accuracy: 0.9860\n",
            "Epoch 53/100\n",
            "24/24 [==============================] - ETA: 0s - loss: 0.0459 - accuracy: 0.9848\n",
            "Epoch 53: val_accuracy did not improve from 0.99070\n",
            "24/24 [==============================] - 29s 1s/step - loss: 0.0459 - accuracy: 0.9848 - val_loss: 0.0355 - val_accuracy: 0.9814\n",
            "Epoch 54/100\n",
            "24/24 [==============================] - ETA: 0s - loss: 0.0316 - accuracy: 0.9921\n",
            "Epoch 54: val_accuracy did not improve from 0.99070\n",
            "24/24 [==============================] - 29s 1s/step - loss: 0.0316 - accuracy: 0.9921 - val_loss: 0.0375 - val_accuracy: 0.9860\n",
            "Epoch 55/100\n",
            "24/24 [==============================] - ETA: 0s - loss: 0.0371 - accuracy: 0.9841\n",
            "Epoch 55: val_accuracy did not improve from 0.99070\n",
            "24/24 [==============================] - 29s 1s/step - loss: 0.0371 - accuracy: 0.9841 - val_loss: 0.0530 - val_accuracy: 0.9814\n",
            "Epoch 56/100\n",
            "24/24 [==============================] - ETA: 0s - loss: 0.0404 - accuracy: 0.9861\n",
            "Epoch 56: val_accuracy did not improve from 0.99070\n",
            "24/24 [==============================] - 29s 1s/step - loss: 0.0404 - accuracy: 0.9861 - val_loss: 0.0419 - val_accuracy: 0.9907\n",
            "Epoch 57/100\n",
            "24/24 [==============================] - ETA: 0s - loss: 0.0485 - accuracy: 0.9801\n",
            "Epoch 57: val_accuracy did not improve from 0.99070\n",
            "24/24 [==============================] - 29s 1s/step - loss: 0.0485 - accuracy: 0.9801 - val_loss: 0.0494 - val_accuracy: 0.9721\n",
            "Epoch 58/100\n",
            "24/24 [==============================] - ETA: 0s - loss: 0.0474 - accuracy: 0.9854\n",
            "Epoch 58: val_accuracy did not improve from 0.99070\n",
            "24/24 [==============================] - 28s 1s/step - loss: 0.0474 - accuracy: 0.9854 - val_loss: 0.0393 - val_accuracy: 0.9860\n",
            "Epoch 59/100\n",
            "24/24 [==============================] - ETA: 0s - loss: 0.0414 - accuracy: 0.9874\n",
            "Epoch 59: val_accuracy did not improve from 0.99070\n"
          ]
        },
        {
          "name": "stdout",
          "output_type": "stream",
          "text": [
            "24/24 [==============================] - 29s 1s/step - loss: 0.0414 - accuracy: 0.9874 - val_loss: 0.0504 - val_accuracy: 0.9860\n",
            "Epoch 60/100\n",
            "24/24 [==============================] - ETA: 0s - loss: 0.0569 - accuracy: 0.9828\n",
            "Epoch 60: val_accuracy did not improve from 0.99070\n",
            "24/24 [==============================] - 29s 1s/step - loss: 0.0569 - accuracy: 0.9828 - val_loss: 0.0708 - val_accuracy: 0.9814\n",
            "Epoch 61/100\n",
            "24/24 [==============================] - ETA: 0s - loss: 0.0474 - accuracy: 0.9821\n",
            "Epoch 61: val_accuracy did not improve from 0.99070\n",
            "24/24 [==============================] - 29s 1s/step - loss: 0.0474 - accuracy: 0.9821 - val_loss: 0.0345 - val_accuracy: 0.9907\n",
            "Epoch 62/100\n",
            "24/24 [==============================] - ETA: 0s - loss: 0.0502 - accuracy: 0.9815\n",
            "Epoch 62: val_accuracy did not improve from 0.99070\n",
            "24/24 [==============================] - 29s 1s/step - loss: 0.0502 - accuracy: 0.9815 - val_loss: 0.0275 - val_accuracy: 0.9907\n",
            "Epoch 63/100\n",
            "24/24 [==============================] - ETA: 0s - loss: 0.0510 - accuracy: 0.9841\n",
            "Epoch 63: val_accuracy improved from 0.99070 to 0.99535, saving model to ModelCNN_terbaru.h5\n",
            "24/24 [==============================] - 29s 1s/step - loss: 0.0510 - accuracy: 0.9841 - val_loss: 0.0331 - val_accuracy: 0.9953\n",
            "Epoch 64/100\n",
            "24/24 [==============================] - ETA: 0s - loss: 0.0388 - accuracy: 0.9914\n",
            "Epoch 64: val_accuracy did not improve from 0.99535\n",
            "24/24 [==============================] - 29s 1s/step - loss: 0.0388 - accuracy: 0.9914 - val_loss: 0.0755 - val_accuracy: 0.9721\n",
            "Epoch 65/100\n",
            "24/24 [==============================] - ETA: 0s - loss: 0.0341 - accuracy: 0.9868\n",
            "Epoch 65: val_accuracy did not improve from 0.99535\n",
            "24/24 [==============================] - 29s 1s/step - loss: 0.0341 - accuracy: 0.9868 - val_loss: 0.0287 - val_accuracy: 0.9814\n",
            "Epoch 66/100\n",
            "24/24 [==============================] - ETA: 0s - loss: 0.0596 - accuracy: 0.9782\n",
            "Epoch 66: val_accuracy did not improve from 0.99535\n",
            "24/24 [==============================] - 29s 1s/step - loss: 0.0596 - accuracy: 0.9782 - val_loss: 0.0496 - val_accuracy: 0.9814\n",
            "Epoch 67/100\n",
            "24/24 [==============================] - ETA: 0s - loss: 0.0464 - accuracy: 0.9854\n",
            "Epoch 67: val_accuracy did not improve from 0.99535\n",
            "24/24 [==============================] - 29s 1s/step - loss: 0.0464 - accuracy: 0.9854 - val_loss: 0.0386 - val_accuracy: 0.9907\n",
            "Epoch 68/100\n",
            "24/24 [==============================] - ETA: 0s - loss: 0.0374 - accuracy: 0.9894\n",
            "Epoch 68: val_accuracy did not improve from 0.99535\n",
            "24/24 [==============================] - 29s 1s/step - loss: 0.0374 - accuracy: 0.9894 - val_loss: 0.0269 - val_accuracy: 0.9860\n",
            "Epoch 69/100\n",
            "24/24 [==============================] - ETA: 0s - loss: 0.0396 - accuracy: 0.9874\n",
            "Epoch 69: val_accuracy did not improve from 0.99535\n",
            "24/24 [==============================] - 29s 1s/step - loss: 0.0396 - accuracy: 0.9874 - val_loss: 0.0543 - val_accuracy: 0.9814\n",
            "Epoch 70/100\n",
            "24/24 [==============================] - ETA: 0s - loss: 0.0299 - accuracy: 0.9907\n",
            "Epoch 70: val_accuracy did not improve from 0.99535\n",
            "24/24 [==============================] - 29s 1s/step - loss: 0.0299 - accuracy: 0.9907 - val_loss: 0.0393 - val_accuracy: 0.9907\n",
            "Epoch 71/100\n",
            "24/24 [==============================] - ETA: 0s - loss: 0.0549 - accuracy: 0.9815\n",
            "Epoch 71: val_accuracy did not improve from 0.99535\n",
            "24/24 [==============================] - 29s 1s/step - loss: 0.0549 - accuracy: 0.9815 - val_loss: 0.0509 - val_accuracy: 0.9767\n",
            "Epoch 72/100\n",
            "24/24 [==============================] - ETA: 0s - loss: 0.0536 - accuracy: 0.9848\n",
            "Epoch 72: val_accuracy did not improve from 0.99535\n",
            "24/24 [==============================] - 30s 1s/step - loss: 0.0536 - accuracy: 0.9848 - val_loss: 0.0544 - val_accuracy: 0.9860\n",
            "Epoch 73/100\n",
            "24/24 [==============================] - ETA: 0s - loss: 0.0463 - accuracy: 0.9854\n",
            "Epoch 73: val_accuracy did not improve from 0.99535\n",
            "24/24 [==============================] - 29s 1s/step - loss: 0.0463 - accuracy: 0.9854 - val_loss: 0.0382 - val_accuracy: 0.9907\n",
            "Epoch 74/100\n",
            "24/24 [==============================] - ETA: 0s - loss: 0.0471 - accuracy: 0.9848\n",
            "Epoch 74: val_accuracy did not improve from 0.99535\n",
            "24/24 [==============================] - 29s 1s/step - loss: 0.0471 - accuracy: 0.9848 - val_loss: 0.0952 - val_accuracy: 0.9721\n",
            "Epoch 75/100\n",
            "24/24 [==============================] - ETA: 0s - loss: 0.0629 - accuracy: 0.9801\n",
            "Epoch 75: val_accuracy did not improve from 0.99535\n",
            "24/24 [==============================] - 29s 1s/step - loss: 0.0629 - accuracy: 0.9801 - val_loss: 0.0422 - val_accuracy: 0.9860\n",
            "Epoch 76/100\n",
            "24/24 [==============================] - ETA: 0s - loss: 0.0299 - accuracy: 0.9914\n",
            "Epoch 76: val_accuracy did not improve from 0.99535\n",
            "24/24 [==============================] - 29s 1s/step - loss: 0.0299 - accuracy: 0.9914 - val_loss: 0.0184 - val_accuracy: 0.9907\n",
            "Epoch 77/100\n",
            "24/24 [==============================] - ETA: 0s - loss: 0.0304 - accuracy: 0.9887\n",
            "Epoch 77: val_accuracy did not improve from 0.99535\n",
            "24/24 [==============================] - 29s 1s/step - loss: 0.0304 - accuracy: 0.9887 - val_loss: 0.0246 - val_accuracy: 0.9953\n",
            "Epoch 78/100\n",
            "24/24 [==============================] - ETA: 0s - loss: 0.0241 - accuracy: 0.9907\n",
            "Epoch 78: val_accuracy did not improve from 0.99535\n",
            "24/24 [==============================] - 29s 1s/step - loss: 0.0241 - accuracy: 0.9907 - val_loss: 0.0266 - val_accuracy: 0.9860\n",
            "Epoch 79/100\n",
            "24/24 [==============================] - ETA: 0s - loss: 0.0557 - accuracy: 0.9795\n",
            "Epoch 79: val_accuracy did not improve from 0.99535\n",
            "24/24 [==============================] - 29s 1s/step - loss: 0.0557 - accuracy: 0.9795 - val_loss: 0.0330 - val_accuracy: 0.9860\n",
            "Epoch 80/100\n",
            "24/24 [==============================] - ETA: 0s - loss: 0.0361 - accuracy: 0.9887\n",
            "Epoch 80: val_accuracy did not improve from 0.99535\n",
            "24/24 [==============================] - 29s 1s/step - loss: 0.0361 - accuracy: 0.9887 - val_loss: 0.0360 - val_accuracy: 0.9860\n",
            "Epoch 81/100\n",
            "24/24 [==============================] - ETA: 0s - loss: 0.0257 - accuracy: 0.9940\n",
            "Epoch 81: val_accuracy did not improve from 0.99535\n",
            "24/24 [==============================] - 29s 1s/step - loss: 0.0257 - accuracy: 0.9940 - val_loss: 0.0277 - val_accuracy: 0.9860\n",
            "Epoch 82/100\n",
            "24/24 [==============================] - ETA: 0s - loss: 0.0224 - accuracy: 0.9934\n",
            "Epoch 82: val_accuracy did not improve from 0.99535\n",
            "24/24 [==============================] - 29s 1s/step - loss: 0.0224 - accuracy: 0.9934 - val_loss: 0.0479 - val_accuracy: 0.9907\n",
            "Epoch 83/100\n",
            "24/24 [==============================] - ETA: 0s - loss: 0.0900 - accuracy: 0.9715\n",
            "Epoch 83: val_accuracy did not improve from 0.99535\n",
            "24/24 [==============================] - 29s 1s/step - loss: 0.0900 - accuracy: 0.9715 - val_loss: 0.0546 - val_accuracy: 0.9907\n",
            "Epoch 84/100\n",
            "24/24 [==============================] - ETA: 0s - loss: 0.0384 - accuracy: 0.9841\n",
            "Epoch 84: val_accuracy did not improve from 0.99535\n",
            "24/24 [==============================] - 29s 1s/step - loss: 0.0384 - accuracy: 0.9841 - val_loss: 0.0671 - val_accuracy: 0.9767\n",
            "Epoch 85/100\n",
            "24/24 [==============================] - ETA: 0s - loss: 0.0297 - accuracy: 0.9887\n",
            "Epoch 85: val_accuracy did not improve from 0.99535\n",
            "24/24 [==============================] - 29s 1s/step - loss: 0.0297 - accuracy: 0.9887 - val_loss: 0.0083 - val_accuracy: 0.9953\n",
            "Epoch 86/100\n",
            "24/24 [==============================] - ETA: 0s - loss: 0.0315 - accuracy: 0.9868\n",
            "Epoch 86: val_accuracy did not improve from 0.99535\n",
            "24/24 [==============================] - 29s 1s/step - loss: 0.0315 - accuracy: 0.9868 - val_loss: 0.0207 - val_accuracy: 0.9907\n",
            "Epoch 87/100\n",
            "24/24 [==============================] - ETA: 0s - loss: 0.0337 - accuracy: 0.9894\n",
            "Epoch 87: val_accuracy did not improve from 0.99535\n",
            "24/24 [==============================] - 29s 1s/step - loss: 0.0337 - accuracy: 0.9894 - val_loss: 0.0242 - val_accuracy: 0.9953\n",
            "Epoch 88/100\n",
            "24/24 [==============================] - ETA: 0s - loss: 0.0296 - accuracy: 0.9907\n",
            "Epoch 88: val_accuracy did not improve from 0.99535\n",
            "24/24 [==============================] - 30s 1s/step - loss: 0.0296 - accuracy: 0.9907 - val_loss: 0.0381 - val_accuracy: 0.9814\n"
          ]
        },
        {
          "name": "stdout",
          "output_type": "stream",
          "text": [
            "Epoch 89/100\n",
            "24/24 [==============================] - ETA: 0s - loss: 0.0266 - accuracy: 0.9907\n",
            "Epoch 89: val_accuracy did not improve from 0.99535\n",
            "24/24 [==============================] - 29s 1s/step - loss: 0.0266 - accuracy: 0.9907 - val_loss: 0.0354 - val_accuracy: 0.9860\n",
            "Epoch 90/100\n",
            "24/24 [==============================] - ETA: 0s - loss: 0.0327 - accuracy: 0.9921\n",
            "Epoch 90: val_accuracy did not improve from 0.99535\n",
            "24/24 [==============================] - 29s 1s/step - loss: 0.0327 - accuracy: 0.9921 - val_loss: 0.0301 - val_accuracy: 0.9860\n",
            "Epoch 91/100\n",
            "24/24 [==============================] - ETA: 0s - loss: 0.0240 - accuracy: 0.9901\n",
            "Epoch 91: val_accuracy did not improve from 0.99535\n",
            "24/24 [==============================] - 29s 1s/step - loss: 0.0240 - accuracy: 0.9901 - val_loss: 0.0354 - val_accuracy: 0.9860\n",
            "Epoch 92/100\n",
            "24/24 [==============================] - ETA: 0s - loss: 0.0356 - accuracy: 0.9907\n",
            "Epoch 92: val_accuracy did not improve from 0.99535\n",
            "24/24 [==============================] - 29s 1s/step - loss: 0.0356 - accuracy: 0.9907 - val_loss: 0.0317 - val_accuracy: 0.9907\n",
            "Epoch 93/100\n",
            "24/24 [==============================] - ETA: 0s - loss: 0.0290 - accuracy: 0.9927\n",
            "Epoch 93: val_accuracy did not improve from 0.99535\n",
            "24/24 [==============================] - 29s 1s/step - loss: 0.0290 - accuracy: 0.9927 - val_loss: 0.0248 - val_accuracy: 0.9860\n",
            "Epoch 94/100\n",
            "24/24 [==============================] - ETA: 0s - loss: 0.0215 - accuracy: 0.9927\n",
            "Epoch 94: val_accuracy did not improve from 0.99535\n",
            "24/24 [==============================] - 29s 1s/step - loss: 0.0215 - accuracy: 0.9927 - val_loss: 0.0344 - val_accuracy: 0.9860\n",
            "Epoch 95/100\n",
            "24/24 [==============================] - ETA: 0s - loss: 0.0253 - accuracy: 0.9940\n",
            "Epoch 95: val_accuracy did not improve from 0.99535\n",
            "24/24 [==============================] - 29s 1s/step - loss: 0.0253 - accuracy: 0.9940 - val_loss: 0.0347 - val_accuracy: 0.9860\n",
            "Epoch 96/100\n",
            "24/24 [==============================] - ETA: 0s - loss: 0.0229 - accuracy: 0.9901\n",
            "Epoch 96: val_accuracy did not improve from 0.99535\n",
            "24/24 [==============================] - 29s 1s/step - loss: 0.0229 - accuracy: 0.9901 - val_loss: 0.0396 - val_accuracy: 0.9907\n",
            "Epoch 97/100\n",
            "24/24 [==============================] - ETA: 0s - loss: 0.0345 - accuracy: 0.9907\n",
            "Epoch 97: val_accuracy did not improve from 0.99535\n",
            "24/24 [==============================] - 29s 1s/step - loss: 0.0345 - accuracy: 0.9907 - val_loss: 0.0347 - val_accuracy: 0.9907\n",
            "Epoch 98/100\n",
            "24/24 [==============================] - ETA: 0s - loss: 0.0214 - accuracy: 0.9914\n",
            "Epoch 98: val_accuracy did not improve from 0.99535\n",
            "24/24 [==============================] - 29s 1s/step - loss: 0.0214 - accuracy: 0.9914 - val_loss: 0.0322 - val_accuracy: 0.9860\n",
            "Epoch 99/100\n",
            "24/24 [==============================] - ETA: 0s - loss: 0.0116 - accuracy: 0.9940\n",
            "Epoch 99: val_accuracy did not improve from 0.99535\n",
            "24/24 [==============================] - 29s 1s/step - loss: 0.0116 - accuracy: 0.9940 - val_loss: 0.0180 - val_accuracy: 0.9907\n",
            "Epoch 100/100\n",
            "24/24 [==============================] - ETA: 0s - loss: 0.0245 - accuracy: 0.9907\n",
            "Epoch 100: val_accuracy did not improve from 0.99535\n",
            "24/24 [==============================] - 29s 1s/step - loss: 0.0245 - accuracy: 0.9907 - val_loss: 0.0322 - val_accuracy: 0.9907\n"
          ]
        }
      ],
      "source": [
        "results = model.fit(train_image_gen,epochs=100,\n",
        "                              validation_data=val_image_gen,\n",
        "                             callbacks=[checkpoint_callback])"
      ]
    },
    {
      "cell_type": "code",
      "execution_count": null,
      "metadata": {
        "colab": {
          "base_uri": "https://localhost:8080/",
          "height": 677
        },
        "id": "yD1btYI8FGRE",
        "outputId": "cb223b54-fd2d-4b19-869e-eb7125d791e2"
      },
      "outputs": [
        {
          "data": {
            "text/html": [
              "<div>\n",
              "<style scoped>\n",
              "    .dataframe tbody tr th:only-of-type {\n",
              "        vertical-align: middle;\n",
              "    }\n",
              "\n",
              "    .dataframe tbody tr th {\n",
              "        vertical-align: top;\n",
              "    }\n",
              "\n",
              "    .dataframe thead th {\n",
              "        text-align: right;\n",
              "    }\n",
              "</style>\n",
              "<table border=\"1\" class=\"dataframe\">\n",
              "  <thead>\n",
              "    <tr style=\"text-align: right;\">\n",
              "      <th></th>\n",
              "      <th>loss</th>\n",
              "      <th>accuracy</th>\n",
              "      <th>val_loss</th>\n",
              "      <th>val_accuracy</th>\n",
              "    </tr>\n",
              "  </thead>\n",
              "  <tbody>\n",
              "    <tr>\n",
              "      <th>0</th>\n",
              "      <td>0.589573</td>\n",
              "      <td>0.733951</td>\n",
              "      <td>0.513422</td>\n",
              "      <td>0.734884</td>\n",
              "    </tr>\n",
              "    <tr>\n",
              "      <th>1</th>\n",
              "      <td>0.365565</td>\n",
              "      <td>0.825943</td>\n",
              "      <td>0.208192</td>\n",
              "      <td>0.930233</td>\n",
              "    </tr>\n",
              "    <tr>\n",
              "      <th>2</th>\n",
              "      <td>0.290476</td>\n",
              "      <td>0.898081</td>\n",
              "      <td>0.176699</td>\n",
              "      <td>0.925581</td>\n",
              "    </tr>\n",
              "    <tr>\n",
              "      <th>3</th>\n",
              "      <td>0.217432</td>\n",
              "      <td>0.934480</td>\n",
              "      <td>0.148080</td>\n",
              "      <td>0.953488</td>\n",
              "    </tr>\n",
              "    <tr>\n",
              "      <th>4</th>\n",
              "      <td>0.199331</td>\n",
              "      <td>0.937128</td>\n",
              "      <td>0.139666</td>\n",
              "      <td>0.967442</td>\n",
              "    </tr>\n",
              "    <tr>\n",
              "      <th>...</th>\n",
              "      <td>...</td>\n",
              "      <td>...</td>\n",
              "      <td>...</td>\n",
              "      <td>...</td>\n",
              "    </tr>\n",
              "    <tr>\n",
              "      <th>95</th>\n",
              "      <td>0.022926</td>\n",
              "      <td>0.990073</td>\n",
              "      <td>0.039561</td>\n",
              "      <td>0.990698</td>\n",
              "    </tr>\n",
              "    <tr>\n",
              "      <th>96</th>\n",
              "      <td>0.034481</td>\n",
              "      <td>0.990735</td>\n",
              "      <td>0.034749</td>\n",
              "      <td>0.990698</td>\n",
              "    </tr>\n",
              "    <tr>\n",
              "      <th>97</th>\n",
              "      <td>0.021389</td>\n",
              "      <td>0.991396</td>\n",
              "      <td>0.032200</td>\n",
              "      <td>0.986046</td>\n",
              "    </tr>\n",
              "    <tr>\n",
              "      <th>98</th>\n",
              "      <td>0.011620</td>\n",
              "      <td>0.994044</td>\n",
              "      <td>0.018018</td>\n",
              "      <td>0.990698</td>\n",
              "    </tr>\n",
              "    <tr>\n",
              "      <th>99</th>\n",
              "      <td>0.024462</td>\n",
              "      <td>0.990735</td>\n",
              "      <td>0.032184</td>\n",
              "      <td>0.990698</td>\n",
              "    </tr>\n",
              "  </tbody>\n",
              "</table>\n",
              "<p>100 rows × 4 columns</p>\n",
              "</div>"
            ],
            "text/plain": [
              "        loss  accuracy  val_loss  val_accuracy\n",
              "0   0.589573  0.733951  0.513422      0.734884\n",
              "1   0.365565  0.825943  0.208192      0.930233\n",
              "2   0.290476  0.898081  0.176699      0.925581\n",
              "3   0.217432  0.934480  0.148080      0.953488\n",
              "4   0.199331  0.937128  0.139666      0.967442\n",
              "..       ...       ...       ...           ...\n",
              "95  0.022926  0.990073  0.039561      0.990698\n",
              "96  0.034481  0.990735  0.034749      0.990698\n",
              "97  0.021389  0.991396  0.032200      0.986046\n",
              "98  0.011620  0.994044  0.018018      0.990698\n",
              "99  0.024462  0.990735  0.032184      0.990698\n",
              "\n",
              "[100 rows x 4 columns]"
            ]
          },
          "execution_count": 28,
          "metadata": {},
          "output_type": "execute_result"
        }
      ],
      "source": [
        "dataf = pd.DataFrame(model.history.history)\n",
        "dataf"
      ]
    },
    {
      "cell_type": "code",
      "execution_count": null,
      "metadata": {
        "colab": {
          "base_uri": "https://localhost:8080/",
          "height": 283
        },
        "id": "Yeeje05zXkiK",
        "outputId": "c44d8c84-6e79-4f2f-9d9e-ab3b258929b8"
      },
      "outputs": [
        {
          "data": {
            "text/plain": [
              "<AxesSubplot: >"
            ]
          },
          "execution_count": 29,
          "metadata": {},
          "output_type": "execute_result"
        },
        {
          "data": {
            "image/png": "[encoded data removed]",
            "text/plain": [
              "<Figure size 640x480 with 1 Axes>"
            ]
          },
          "metadata": {},
          "output_type": "display_data"
        }
      ],
      "source": [
        "dataf[['accuracy', 'val_accuracy']].plot()"
      ]
    },
    {
      "cell_type": "code",
      "execution_count": null,
      "metadata": {
        "colab": {
          "base_uri": "https://localhost:8080/",
          "height": 282
        },
        "id": "j4f7dGzHXlWN",
        "outputId": "d46301db-238b-47b2-c584-6712a5d3832d"
      },
      "outputs": [
        {
          "data": {
            "text/plain": [
              "<AxesSubplot: >"
            ]
          },
          "execution_count": 30,
          "metadata": {},
          "output_type": "execute_result"
        },
        {
          "data": {
            "image/png": "[encoded data removed]",
            "text/plain": [
              "<Figure size 640x480 with 1 Axes>"
            ]
          },
          "metadata": {},
          "output_type": "display_data"
        }
      ],
      "source": [
        "dataf[['loss', 'val_loss']].plot()"
      ]
    },
    {
      "cell_type": "code",
      "execution_count": null,
      "metadata": {
        "colab": {
          "base_uri": "https://localhost:8080/"
        },
        "id": "fandfEXXBltT",
        "outputId": "2a430166-c784-413d-f54c-fba659927a91"
      },
      "outputs": [
        {
          "name": "stdout",
          "output_type": "stream",
          "text": [
            "7/7 [==============================] - 10s 1s/step - loss: 0.0360 - accuracy: 0.9884\n"
          ]
        },
        {
          "data": {
            "text/plain": [
              "[0.036005899310112, 0.9884259104728699]"
            ]
          },
          "execution_count": 31,
          "metadata": {},
          "output_type": "execute_result"
        }
      ],
      "source": [
        "model.evaluate(test_image_gen)"
      ]
    },
    {
      "cell_type": "code",
      "execution_count": null,
      "metadata": {
        "colab": {
          "base_uri": "https://localhost:8080/"
        },
        "id": "e4VBIEhjBmUC",
        "outputId": "b93cb0b8-6e71-452f-bf38-911871aa6cda"
      },
      "outputs": [
        {
          "name": "stdout",
          "output_type": "stream",
          "text": [
            "7/7 [==============================] - 8s 956ms/step\n"
          ]
        },
        {
          "data": {
            "text/plain": [
              "array([0, 0, 0, 0, 0, 0, 0, 0, 0, 0, 0, 0, 0, 0, 0, 0, 0, 0, 0, 0, 0, 0,\n",
              "       0, 0, 0, 0, 0, 0, 0, 0, 0, 0, 0, 0, 0, 0, 0, 0, 0, 0, 0, 0, 0, 0,\n",
              "       0, 0, 0, 0, 0, 1, 0, 0, 0, 0, 0, 0, 0, 0, 1, 0, 0, 0, 0, 0, 0, 0,\n",
              "       0, 0, 0, 0, 0, 0, 0, 0, 0, 0, 0, 0, 0, 0, 0, 0, 0, 0, 0, 0, 0, 0,\n",
              "       0, 1, 0, 0, 0, 0, 0, 0, 1, 0, 0, 0, 0, 0, 0, 0, 0, 0, 0, 0, 0, 0,\n",
              "       0, 0, 0, 0, 0, 0, 1, 1, 1, 1, 1, 1, 1, 1, 1, 1, 1, 1, 1, 1, 1, 1,\n",
              "       1, 1, 1, 1, 1, 1, 1, 1, 1, 1, 1, 1, 1, 1, 1, 1, 1, 1, 1, 1, 1, 1,\n",
              "       1, 1, 1, 1, 0, 1, 1, 1, 1, 1, 1, 1, 1, 1, 1, 1, 1, 1, 1, 1, 1, 1,\n",
              "       1, 1, 1, 1, 1, 1, 1, 1, 1, 1, 1, 1, 1, 1, 1, 1, 1, 1, 1, 1, 1, 1,\n",
              "       1, 1, 1, 1, 1, 1, 1, 1, 1, 1, 1, 1, 1, 1, 1, 1, 1, 1, 1, 1, 1, 1,\n",
              "       1, 1, 1, 1, 1, 1, 1, 1, 1, 1, 1, 1, 1, 1, 1, 1, 1, 1, 1, 1, 1, 1,\n",
              "       1, 1, 1, 1, 1, 1, 1, 1, 1, 1, 1, 1, 1, 1, 1, 1, 1, 1, 1, 1, 1, 1,\n",
              "       1, 1, 1, 1, 1, 1, 1, 1, 1, 1, 1, 1, 1, 1, 1, 1, 1, 1, 1, 1, 1, 1,\n",
              "       1, 1, 1, 1, 1, 1, 1, 1, 1, 1, 1, 1, 1, 1, 1, 1, 1, 1, 1, 1, 1, 1,\n",
              "       1, 1, 1, 1, 1, 1, 1, 1, 1, 1, 1, 1, 1, 1, 1, 1, 1, 1, 1, 1, 1, 1,\n",
              "       1, 1, 1, 1, 1, 1, 1, 1, 1, 1, 1, 1, 1, 1, 1, 1, 1, 1, 1, 1, 1, 1,\n",
              "       1, 1, 1, 1, 1, 1, 1, 1, 1, 1, 1, 1, 1, 1, 1, 1, 1, 1, 1, 1, 1, 1,\n",
              "       1, 1, 1, 1, 1, 1, 1, 1, 1, 1, 1, 1, 1, 1, 1, 1, 1, 1, 1, 1, 1, 1,\n",
              "       1, 1, 1, 1, 1, 1, 1, 1, 1, 1, 1, 1, 1, 1, 1, 1, 1, 1, 1, 1, 1, 1,\n",
              "       1, 1, 1, 1, 1, 1, 1, 1, 1, 1, 1, 1, 1, 1], dtype=int64)"
            ]
          },
          "execution_count": 32,
          "metadata": {},
          "output_type": "execute_result"
        }
      ],
      "source": [
        "predictions = np.argmax(model.predict(test_image_gen), axis = -1)\n",
        "predictions"
      ]
    },
    {
      "cell_type": "code",
      "execution_count": null,
      "metadata": {
        "colab": {
          "base_uri": "https://localhost:8080/"
        },
        "id": "G0jD0Qb4BmYg",
        "outputId": "ea1ab5bf-073e-4bd1-ec71-635e635d448c"
      },
      "outputs": [
        {
          "name": "stdout",
          "output_type": "stream",
          "text": [
            "              precision    recall  f1-score   support\n",
            "\n",
            "           0       0.99      0.97      0.98       116\n",
            "           1       0.99      1.00      0.99       316\n",
            "\n",
            "    accuracy                           0.99       432\n",
            "   macro avg       0.99      0.98      0.99       432\n",
            "weighted avg       0.99      0.99      0.99       432\n",
            "\n"
          ]
        }
      ],
      "source": [
        "from sklearn.metrics import classification_report, confusion_matrix\n",
        "print(classification_report(test_image_gen.classes,predictions))"
      ]
    },
    {
      "cell_type": "code",
      "execution_count": null,
      "metadata": {
        "colab": {
          "base_uri": "https://localhost:8080/",
          "height": 334
        },
        "id": "KTyVqtCbNg-f",
        "outputId": "7c71b28d-73bd-4500-d733-66c479e656ec"
      },
      "outputs": [
        {
          "name": "stdout",
          "output_type": "stream",
          "text": [
            "Confusion matrix, without normalization\n",
            "[[112   4]\n",
            " [  1 315]]\n"
          ]
        },
        {
          "data": {
            "image/png": "[encoded data removed]",
            "text/plain": [
              "<Figure size 640x480 with 2 Axes>"
            ]
          },
          "metadata": {},
          "output_type": "display_data"
        }
      ],
      "source": [
        "import itertools\n",
        "def plot_confusion_matrix(cm, classes,\n",
        "                          normalize=False,\n",
        "                          title='Confusion matrix',\n",
        "                          cmap=plt.cm.Blues):\n",
        "    if normalize:\n",
        "        cm = cm.astype('float') / cm.sum(axis=1)[:, np.newaxis]\n",
        "        print(\"Normalized confusion matrix\")\n",
        "    else:\n",
        "        print('Confusion matrix, without normalization')\n",
        "\n",
        "    print(cm)\n",
        "\n",
        "    plt.imshow(cm, interpolation='nearest', cmap=cmap)\n",
        "    plt.title(title)\n",
        "    plt.colorbar()\n",
        "    tick_marks = np.arange(len(classes))\n",
        "    plt.xticks(tick_marks, classes, rotation=45)\n",
        "    plt.yticks(tick_marks, classes)\n",
        "\n",
        "    fmt = '.2f' if normalize else 'd'\n",
        "    thresh = cm.max() / 2.\n",
        "    for i, j in itertools.product(range(cm.shape[0]), range(cm.shape[1])):\n",
        "        plt.text(j, i, format(cm[i, j], fmt),\n",
        "                 horizontalalignment=\"center\",\n",
        "                 color=\"white\" if cm[i, j] > thresh else \"black\")\n",
        "\n",
        "    plt.tight_layout()\n",
        "    plt.ylabel('True label')\n",
        "    plt.xlabel('Predicted label')\n",
        "\n",
        "cnf_matrix=confusion_matrix(test_image_gen.classes,predictions)\n",
        "plot_confusion_matrix(cnf_matrix, classes=test_image_gen.class_indices)"
      ]
    },
    {
      "cell_type": "code",
      "execution_count": null,
      "metadata": {
        "id": "Vkg4NcfJ8dN3"
      },
      "outputs": [],
      "source": [
        "model.save('ModelCNN.h5')"
      ]
    }
  ],
  "metadata": {
    "accelerator": "GPU",
    "colab": {
      "collapsed_sections": [],
      "provenance": [],
      "include_colab_link": true
    },
    "kernelspec": {
      "display_name": "Python 3 (ipykernel)",
      "language": "python",
      "name": "python3"
    },
    "language_info": {
      "codemirror_mode": {
        "name": "ipython",
        "version": 3
      },
      "file_extension": ".py",
      "mimetype": "text/x-python",
      "name": "python",
      "nbconvert_exporter": "python",
      "pygments_lexer": "ipython3",
      "version": "3.10.0"
    }
  },
  "nbformat": 4,
  "nbformat_minor": 0
}