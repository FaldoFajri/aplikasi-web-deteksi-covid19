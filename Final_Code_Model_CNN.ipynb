{
  "cells": [
    {
      "cell_type": "markdown",
      "metadata": {
        "id": "view-in-github",
        "colab_type": "text"
      },
      "source": [
        "<a href=\"https://colab.research.google.com/github/FaldoFajri/tubes-mesinbelajar/blob/main/Final_Code_Model_CNN.ipynb\" target=\"_parent\"><img src=\"https://colab.research.google.com/assets/colab-badge.svg\" alt=\"Open In Colab\"/></a>"
      ]
    },
    {
      "cell_type": "code",
      "source": [
        "!git clone https://github.com/FaldoFajri/tubes-mesinbelajar.git"
      ],
      "metadata": {
        "colab": {
          "base_uri": "https://localhost:8080/"
        },
        "id": "xSFjGRimFNuF",
        "outputId": "6110069d-8bfe-4339-9a8e-43edf8171390"
      },
      "execution_count": 2,
      "outputs": [
        {
          "output_type": "stream",
          "name": "stdout",
          "text": [
            "Cloning into 'tubes-mesinbelajar'...\n",
            "remote: Enumerating objects: 2534, done.\u001b[K\n",
            "remote: Counting objects: 100% (2534/2534), done.\u001b[K\n",
            "remote: Compressing objects: 100% (2492/2492), done.\u001b[K\n",
            "remote: Total 2534 (delta 25), reused 2534 (delta 25), pack-reused 0\u001b[K\n",
            "Receiving objects: 100% (2534/2534), 1.49 GiB | 31.86 MiB/s, done.\n",
            "Resolving deltas: 100% (25/25), done.\n",
            "Checking out files: 100% (2603/2603), done.\n"
          ]
        }
      ]
    },
    {
      "cell_type": "code",
      "execution_count": null,
      "metadata": {
        "id": "gYdad9BCThEz"
      },
      "outputs": [],
      "source": [
        "import numpy as np # linear algebra\n",
        "import pandas as pd # data processing, CSV file I/O (e.g. pd.read_csv)\n",
        "\n",
        "import os\n",
        "for dirname, _, filenames in os.walk('/kaggle/input'):\n",
        "    for filename in filenames:\n",
        "        print(os.path.join(dirname, filename))\n",
        "\n",
        "import pandas as pd\n",
        "import numpy as np \n",
        "import seaborn as sns\n",
        "import matplotlib.pyplot as plt \n",
        "import warnings\n",
        "warnings.filterwarnings('ignore')\n",
        "\n",
        "from tensorflow.keras.preprocessing.image import ImageDataGenerator\n",
        "from tensorflow.keras.models import Sequential\n",
        "from tensorflow.keras.layers import Activation, Dropout, Flatten, Dense, Conv2D, MaxPooling2D\n",
        "from tensorflow.keras.callbacks import EarlyStopping, ModelCheckpoint, ReduceLROnPlateau\n",
        "\n",
        "%matplotlib inline"
      ]
    },
    {
      "cell_type": "code",
      "source": [
        ""
      ],
      "metadata": {
        "id": "NjYBCz-jFLAt"
      },
      "execution_count": null,
      "outputs": []
    },
    {
      "cell_type": "code",
      "execution_count": null,
      "metadata": {
        "id": "KZUVHCeeWvyY"
      },
      "outputs": [],
      "source": [
        "test_dir = \"/content/tubes-mesinbelajar/dataset/test\"\n",
        "train_dir = \"/content/tubes-mesinbelajar/dataset/train\"\n",
        "val_dir = \"/content/tubes-mesinbelajar/dataset/val\""
      ]
    },
    {
      "cell_type": "code",
      "execution_count": null,
      "metadata": {
        "id": "TzJOnTSnXNCh"
      },
      "outputs": [],
      "source": [
        "image_shape = (100,100,3)\n",
        "image_gen = ImageDataGenerator(rotation_range=20,\n",
        "                               width_shift_range=0.10,\n",
        "                               height_shift_range=0.10,\n",
        "                               rescale=1/255,\n",
        "                               shear_range=0.1,\n",
        "                               zoom_range=0.1,\n",
        "                               horizontal_flip=True,\n",
        "                               fill_mode='nearest')"
      ]
    },
    {
      "cell_type": "code",
      "execution_count": null,
      "metadata": {
        "colab": {
          "base_uri": "https://localhost:8080/"
        },
        "id": "pmU0UlkTXPJF",
        "outputId": "942bf31a-dfba-4a3c-da11-325aa5aa0e6b"
      },
      "outputs": [
        {
          "name": "stdout",
          "output_type": "stream",
          "text": [
            "Model: \"sequential_2\"\n",
            "_________________________________________________________________\n",
            "Layer (type)                 Output Shape              Param #   \n",
            "=================================================================\n",
            "conv2d_6 (Conv2D)            (None, 98, 98, 128)       3584      \n",
            "_________________________________________________________________\n",
            "max_pooling2d_6 (MaxPooling2 (None, 49, 49, 128)       0         \n",
            "_________________________________________________________________\n",
            "conv2d_7 (Conv2D)            (None, 47, 47, 64)        73792     \n",
            "_________________________________________________________________\n",
            "max_pooling2d_7 (MaxPooling2 (None, 23, 23, 64)        0         \n",
            "_________________________________________________________________\n",
            "conv2d_8 (Conv2D)            (None, 21, 21, 32)        18464     \n",
            "_________________________________________________________________\n",
            "max_pooling2d_8 (MaxPooling2 (None, 10, 10, 32)        0         \n",
            "_________________________________________________________________\n",
            "flatten_2 (Flatten)          (None, 3200)              0         \n",
            "_________________________________________________________________\n",
            "dense_4 (Dense)              (None, 64)                204864    \n",
            "_________________________________________________________________\n",
            "dropout_2 (Dropout)          (None, 64)                0         \n",
            "_________________________________________________________________\n",
            "dense_5 (Dense)              (None, 2)                 130       \n",
            "=================================================================\n",
            "Total params: 300,834\n",
            "Trainable params: 300,834\n",
            "Non-trainable params: 0\n",
            "_________________________________________________________________\n"
          ]
        }
      ],
      "source": [
        "model = Sequential()\n",
        "\n",
        "model.add(Conv2D(filters=128, kernel_size=(3,3),input_shape=image_shape, activation='relu',))\n",
        "model.add(MaxPooling2D(pool_size=(2, 2)))\n",
        "\n",
        "model.add(Conv2D(filters=64, kernel_size=(3,3),input_shape=image_shape, activation='relu',))\n",
        "model.add(MaxPooling2D(pool_size=(2, 2)))\n",
        "\n",
        "model.add(Conv2D(filters=32, kernel_size=(3,3),input_shape=image_shape, activation='relu',))\n",
        "model.add(MaxPooling2D(pool_size=(2, 2)))\n",
        "\n",
        "\n",
        "model.add(Flatten())\n",
        "\n",
        "\n",
        "model.add(Dense(64, activation = 'relu'))\n",
        "model.add(Dropout(0.5))\n",
        "\n",
        "model.add(Dense(2, activation = 'softmax'))\n",
        "model.compile(loss='categorical_crossentropy',\n",
        "              optimizer='adam',\n",
        "              metrics=['accuracy'])\n",
        "model.summary()"
      ]
    },
    {
      "cell_type": "code",
      "execution_count": null,
      "metadata": {
        "id": "gXWwn0muC_vz"
      },
      "outputs": [],
      "source": [
        "#early_stop = EarlyStopping(monitor='val_loss',patience=2, verbose = 1)\n",
        "\n",
        "best_model_path = 'Model2data.h5'\n",
        "checkpoint_callback = ModelCheckpoint(best_model_path, monitor='val_accuracy', save_best_only=True, verbose=1)\n",
        "batch_size = 64"
      ]
    },
    {
      "cell_type": "code",
      "execution_count": null,
      "metadata": {
        "colab": {
          "base_uri": "https://localhost:8080/"
        },
        "id": "Ptlvfg8zXW7N",
        "outputId": "308df22c-e982-4b39-9536-a1b40ce204b1"
      },
      "outputs": [
        {
          "name": "stdout",
          "output_type": "stream",
          "text": [
            "Found 1511 images belonging to 2 classes.\n"
          ]
        }
      ],
      "source": [
        "train_image_gen = image_gen.flow_from_directory(train_dir,\n",
        "                                               target_size=(100,100),\n",
        "                                               batch_size=batch_size,\n",
        "                                               class_mode='categorical')"
      ]
    },
    {
      "cell_type": "code",
      "execution_count": null,
      "metadata": {
        "colab": {
          "base_uri": "https://localhost:8080/"
        },
        "id": "PxyLTlgtXe1R",
        "outputId": "770c3078-0b96-46b7-a3df-219344fbefc0"
      },
      "outputs": [
        {
          "name": "stdout",
          "output_type": "stream",
          "text": [
            "Found 215 images belonging to 2 classes.\n"
          ]
        }
      ],
      "source": [
        "val_image_gen = image_gen.flow_from_directory(val_dir,\n",
        "                                               target_size=(100,100),\n",
        "                                               batch_size=batch_size,\n",
        "                                               class_mode='categorical',shuffle=False)"
      ]
    },
    {
      "cell_type": "code",
      "execution_count": null,
      "metadata": {
        "id": "SesXMMWbFCD6",
        "outputId": "684eb395-48e6-415a-b72a-fb8bb1eda414"
      },
      "outputs": [
        {
          "name": "stdout",
          "output_type": "stream",
          "text": [
            "Found 432 images belonging to 2 classes.\n"
          ]
        }
      ],
      "source": [
        "test_image_gen = image_gen.flow_from_directory(test_dir,\n",
        "                                               target_size=(100,100),\n",
        "                                               batch_size=batch_size,\n",
        "                                               class_mode='categorical',shuffle=False)"
      ]
    },
    {
      "cell_type": "code",
      "execution_count": null,
      "metadata": {
        "colab": {
          "base_uri": "https://localhost:8080/"
        },
        "id": "p2fMSTjBXkQt",
        "outputId": "9c3c4095-96ef-49e1-d600-991f608e9700"
      },
      "outputs": [
        {
          "name": "stdout",
          "output_type": "stream",
          "text": [
            "{'covid': 0, 'normal': 1}\n",
            "{'covid': 0, 'normal': 1}\n"
          ]
        }
      ],
      "source": [
        "print(train_image_gen.class_indices)\n",
        "print(val_image_gen.class_indices)"
      ]
    },
    {
      "cell_type": "code",
      "execution_count": null,
      "metadata": {
        "colab": {
          "base_uri": "https://localhost:8080/"
        },
        "id": "aqJ515ytXwrN",
        "outputId": "cc5f1c51-2952-4d8e-987b-2a93a1a5d9dc"
      },
      "outputs": [
        {
          "name": "stdout",
          "output_type": "stream",
          "text": [
            "Epoch 1/100\n",
            "24/24 [==============================] - 101s 4s/step - loss: 0.5563 - accuracy: 0.7167 - val_loss: 0.4404 - val_accuracy: 0.7349\n",
            "\n",
            "Epoch 00001: val_accuracy improved from -inf to 0.73488, saving model to Model2data.h5\n",
            "Epoch 2/100\n",
            "24/24 [==============================] - 27s 1s/step - loss: 0.3279 - accuracy: 0.8564 - val_loss: 0.1828 - val_accuracy: 0.9395\n",
            "\n",
            "Epoch 00002: val_accuracy improved from 0.73488 to 0.93953, saving model to Model2data.h5\n",
            "Epoch 3/100\n",
            "24/24 [==============================] - 27s 1s/step - loss: 0.2382 - accuracy: 0.9126 - val_loss: 0.1505 - val_accuracy: 0.9628\n",
            "\n",
            "Epoch 00003: val_accuracy improved from 0.93953 to 0.96279, saving model to Model2data.h5\n",
            "Epoch 4/100\n",
            "24/24 [==============================] - 27s 1s/step - loss: 0.2074 - accuracy: 0.9252 - val_loss: 0.1303 - val_accuracy: 0.9674\n",
            "\n",
            "Epoch 00004: val_accuracy improved from 0.96279 to 0.96744, saving model to Model2data.h5\n",
            "Epoch 5/100\n",
            "24/24 [==============================] - 27s 1s/step - loss: 0.1778 - accuracy: 0.9464 - val_loss: 0.1234 - val_accuracy: 0.9628\n",
            "\n",
            "Epoch 00005: val_accuracy did not improve from 0.96744\n",
            "Epoch 6/100\n",
            "24/24 [==============================] - 27s 1s/step - loss: 0.1485 - accuracy: 0.9477 - val_loss: 0.0692 - val_accuracy: 0.9814\n",
            "\n",
            "Epoch 00006: val_accuracy improved from 0.96744 to 0.98140, saving model to Model2data.h5\n",
            "Epoch 7/100\n",
            "24/24 [==============================] - 33s 1s/step - loss: 0.1340 - accuracy: 0.9537 - val_loss: 0.1388 - val_accuracy: 0.9581\n",
            "\n",
            "Epoch 00007: val_accuracy did not improve from 0.98140\n",
            "Epoch 8/100\n",
            "24/24 [==============================] - 29s 1s/step - loss: 0.1381 - accuracy: 0.9583 - val_loss: 0.1327 - val_accuracy: 0.9674\n",
            "\n",
            "Epoch 00008: val_accuracy did not improve from 0.98140\n",
            "Epoch 9/100\n",
            "24/24 [==============================] - 30s 1s/step - loss: 0.1087 - accuracy: 0.9596 - val_loss: 0.0974 - val_accuracy: 0.9767\n",
            "\n",
            "Epoch 00009: val_accuracy did not improve from 0.98140\n",
            "Epoch 10/100\n",
            "24/24 [==============================] - 30s 1s/step - loss: 0.1237 - accuracy: 0.9636 - val_loss: 0.0784 - val_accuracy: 0.9860\n",
            "\n",
            "Epoch 00010: val_accuracy improved from 0.98140 to 0.98605, saving model to Model2data.h5\n",
            "Epoch 11/100\n",
            "24/24 [==============================] - 30s 1s/step - loss: 0.1066 - accuracy: 0.9623 - val_loss: 0.0751 - val_accuracy: 0.9814\n",
            "\n",
            "Epoch 00011: val_accuracy did not improve from 0.98605\n",
            "Epoch 12/100\n",
            "24/24 [==============================] - 28s 1s/step - loss: 0.1050 - accuracy: 0.9682 - val_loss: 0.0726 - val_accuracy: 0.9767\n",
            "\n",
            "Epoch 00012: val_accuracy did not improve from 0.98605\n",
            "Epoch 13/100\n",
            "24/24 [==============================] - 28s 1s/step - loss: 0.0862 - accuracy: 0.9735 - val_loss: 0.0696 - val_accuracy: 0.9721\n",
            "\n",
            "Epoch 00013: val_accuracy did not improve from 0.98605\n",
            "Epoch 14/100\n",
            "24/24 [==============================] - 27s 1s/step - loss: 0.0855 - accuracy: 0.9676 - val_loss: 0.0742 - val_accuracy: 0.9721\n",
            "\n",
            "Epoch 00014: val_accuracy did not improve from 0.98605\n",
            "Epoch 15/100\n",
            "24/24 [==============================] - 27s 1s/step - loss: 0.0792 - accuracy: 0.9742 - val_loss: 0.0585 - val_accuracy: 0.9721\n",
            "\n",
            "Epoch 00015: val_accuracy did not improve from 0.98605\n",
            "Epoch 16/100\n",
            "24/24 [==============================] - 27s 1s/step - loss: 0.0710 - accuracy: 0.9775 - val_loss: 0.0550 - val_accuracy: 0.9814\n",
            "\n",
            "Epoch 00016: val_accuracy did not improve from 0.98605\n",
            "Epoch 17/100\n",
            "24/24 [==============================] - 27s 1s/step - loss: 0.0687 - accuracy: 0.9762 - val_loss: 0.0633 - val_accuracy: 0.9814\n",
            "\n",
            "Epoch 00017: val_accuracy did not improve from 0.98605\n",
            "Epoch 18/100\n",
            "24/24 [==============================] - 27s 1s/step - loss: 0.0975 - accuracy: 0.9715 - val_loss: 0.0525 - val_accuracy: 0.9767\n",
            "\n",
            "Epoch 00018: val_accuracy did not improve from 0.98605\n",
            "Epoch 19/100\n",
            "24/24 [==============================] - 28s 1s/step - loss: 0.1005 - accuracy: 0.9649 - val_loss: 0.0572 - val_accuracy: 0.9907\n",
            "\n",
            "Epoch 00019: val_accuracy improved from 0.98605 to 0.99070, saving model to Model2data.h5\n",
            "Epoch 20/100\n",
            "24/24 [==============================] - 27s 1s/step - loss: 0.0742 - accuracy: 0.9709 - val_loss: 0.0636 - val_accuracy: 0.9814\n",
            "\n",
            "Epoch 00020: val_accuracy did not improve from 0.99070\n",
            "Epoch 21/100\n",
            "24/24 [==============================] - 28s 1s/step - loss: 0.0741 - accuracy: 0.9775 - val_loss: 0.0851 - val_accuracy: 0.9674\n",
            "\n",
            "Epoch 00021: val_accuracy did not improve from 0.99070\n",
            "Epoch 22/100\n",
            "24/24 [==============================] - 29s 1s/step - loss: 0.0701 - accuracy: 0.9828 - val_loss: 0.0429 - val_accuracy: 0.9814\n",
            "\n",
            "Epoch 00022: val_accuracy did not improve from 0.99070\n",
            "Epoch 23/100\n",
            "24/24 [==============================] - 28s 1s/step - loss: 0.0504 - accuracy: 0.9801 - val_loss: 0.0812 - val_accuracy: 0.9721\n",
            "\n",
            "Epoch 00023: val_accuracy did not improve from 0.99070\n",
            "Epoch 24/100\n",
            "24/24 [==============================] - 27s 1s/step - loss: 0.0743 - accuracy: 0.9775 - val_loss: 0.0567 - val_accuracy: 0.9814\n",
            "\n",
            "Epoch 00024: val_accuracy did not improve from 0.99070\n",
            "Epoch 25/100\n",
            "24/24 [==============================] - 28s 1s/step - loss: 0.0693 - accuracy: 0.9762 - val_loss: 0.0878 - val_accuracy: 0.9721\n",
            "\n",
            "Epoch 00025: val_accuracy did not improve from 0.99070\n",
            "Epoch 26/100\n",
            "24/24 [==============================] - 28s 1s/step - loss: 0.0777 - accuracy: 0.9749 - val_loss: 0.0315 - val_accuracy: 0.9860\n",
            "\n",
            "Epoch 00026: val_accuracy did not improve from 0.99070\n",
            "Epoch 27/100\n",
            "24/24 [==============================] - 28s 1s/step - loss: 0.0640 - accuracy: 0.9795 - val_loss: 0.0493 - val_accuracy: 0.9860\n",
            "\n",
            "Epoch 00027: val_accuracy did not improve from 0.99070\n",
            "Epoch 28/100\n",
            "24/24 [==============================] - 29s 1s/step - loss: 0.0624 - accuracy: 0.9808 - val_loss: 0.0709 - val_accuracy: 0.9814\n",
            "\n",
            "Epoch 00028: val_accuracy did not improve from 0.99070\n",
            "Epoch 29/100\n",
            "24/24 [==============================] - 27s 1s/step - loss: 0.0564 - accuracy: 0.9801 - val_loss: 0.0502 - val_accuracy: 0.9767\n",
            "\n",
            "Epoch 00029: val_accuracy did not improve from 0.99070\n",
            "Epoch 30/100\n",
            "24/24 [==============================] - 27s 1s/step - loss: 0.0640 - accuracy: 0.9762 - val_loss: 0.0311 - val_accuracy: 0.9953\n",
            "\n",
            "Epoch 00030: val_accuracy improved from 0.99070 to 0.99535, saving model to Model2data.h5\n",
            "Epoch 31/100\n",
            "24/24 [==============================] - 29s 1s/step - loss: 0.0521 - accuracy: 0.9815 - val_loss: 0.0572 - val_accuracy: 0.9767\n",
            "\n",
            "Epoch 00031: val_accuracy did not improve from 0.99535\n",
            "Epoch 32/100\n",
            "24/24 [==============================] - 31s 1s/step - loss: 0.0538 - accuracy: 0.9835 - val_loss: 0.0401 - val_accuracy: 0.9814\n",
            "\n",
            "Epoch 00032: val_accuracy did not improve from 0.99535\n",
            "Epoch 33/100\n",
            "24/24 [==============================] - 30s 1s/step - loss: 0.0481 - accuracy: 0.9808 - val_loss: 0.0395 - val_accuracy: 0.9814\n",
            "\n",
            "Epoch 00033: val_accuracy did not improve from 0.99535\n",
            "Epoch 34/100\n",
            "24/24 [==============================] - 30s 1s/step - loss: 0.0398 - accuracy: 0.9881 - val_loss: 0.0462 - val_accuracy: 0.9860\n",
            "\n",
            "Epoch 00034: val_accuracy did not improve from 0.99535\n",
            "Epoch 35/100\n",
            "24/24 [==============================] - 28s 1s/step - loss: 0.0492 - accuracy: 0.9854 - val_loss: 0.0434 - val_accuracy: 0.9860\n",
            "\n",
            "Epoch 00035: val_accuracy did not improve from 0.99535\n",
            "Epoch 36/100\n",
            "24/24 [==============================] - 28s 1s/step - loss: 0.0535 - accuracy: 0.9841 - val_loss: 0.0219 - val_accuracy: 0.9907\n",
            "\n",
            "Epoch 00036: val_accuracy did not improve from 0.99535\n",
            "Epoch 37/100\n",
            "24/24 [==============================] - 28s 1s/step - loss: 0.0584 - accuracy: 0.9795 - val_loss: 0.0422 - val_accuracy: 0.9860\n",
            "\n",
            "Epoch 00037: val_accuracy did not improve from 0.99535\n",
            "Epoch 38/100\n",
            "24/24 [==============================] - 27s 1s/step - loss: 0.0465 - accuracy: 0.9841 - val_loss: 0.0244 - val_accuracy: 0.9907\n",
            "\n",
            "Epoch 00038: val_accuracy did not improve from 0.99535\n",
            "Epoch 39/100\n",
            "24/24 [==============================] - 28s 1s/step - loss: 0.0407 - accuracy: 0.9854 - val_loss: 0.0687 - val_accuracy: 0.9767\n",
            "\n",
            "Epoch 00039: val_accuracy did not improve from 0.99535\n",
            "Epoch 40/100\n",
            "24/24 [==============================] - 27s 1s/step - loss: 0.0582 - accuracy: 0.9801 - val_loss: 0.0265 - val_accuracy: 0.9860\n",
            "\n",
            "Epoch 00040: val_accuracy did not improve from 0.99535\n",
            "Epoch 41/100\n"
          ]
        },
        {
          "name": "stdout",
          "output_type": "stream",
          "text": [
            "24/24 [==============================] - 28s 1s/step - loss: 0.0484 - accuracy: 0.9808 - val_loss: 0.0668 - val_accuracy: 0.9814\n",
            "\n",
            "Epoch 00041: val_accuracy did not improve from 0.99535\n",
            "Epoch 42/100\n",
            "24/24 [==============================] - 28s 1s/step - loss: 0.0401 - accuracy: 0.9887 - val_loss: 0.0173 - val_accuracy: 0.9907\n",
            "\n",
            "Epoch 00042: val_accuracy did not improve from 0.99535\n",
            "Epoch 43/100\n",
            "24/24 [==============================] - 28s 1s/step - loss: 0.0377 - accuracy: 0.9874 - val_loss: 0.0424 - val_accuracy: 0.9767\n",
            "\n",
            "Epoch 00043: val_accuracy did not improve from 0.99535\n",
            "Epoch 44/100\n",
            "24/24 [==============================] - 30s 1s/step - loss: 0.0590 - accuracy: 0.9801 - val_loss: 0.0533 - val_accuracy: 0.9814\n",
            "\n",
            "Epoch 00044: val_accuracy did not improve from 0.99535\n",
            "Epoch 45/100\n",
            "24/24 [==============================] - 30s 1s/step - loss: 0.0434 - accuracy: 0.9841 - val_loss: 0.0713 - val_accuracy: 0.9721\n",
            "\n",
            "Epoch 00045: val_accuracy did not improve from 0.99535\n",
            "Epoch 46/100\n",
            "24/24 [==============================] - 30s 1s/step - loss: 0.0517 - accuracy: 0.9815 - val_loss: 0.0368 - val_accuracy: 0.9860\n",
            "\n",
            "Epoch 00046: val_accuracy did not improve from 0.99535\n",
            "Epoch 47/100\n",
            "24/24 [==============================] - 29s 1s/step - loss: 0.0477 - accuracy: 0.9841 - val_loss: 0.0332 - val_accuracy: 0.9907\n",
            "\n",
            "Epoch 00047: val_accuracy did not improve from 0.99535\n",
            "Epoch 48/100\n",
            "24/24 [==============================] - 30s 1s/step - loss: 0.0556 - accuracy: 0.9795 - val_loss: 0.0656 - val_accuracy: 0.9860\n",
            "\n",
            "Epoch 00048: val_accuracy did not improve from 0.99535\n",
            "Epoch 49/100\n",
            "24/24 [==============================] - 30s 1s/step - loss: 0.0588 - accuracy: 0.9762 - val_loss: 0.0333 - val_accuracy: 0.9860\n",
            "\n",
            "Epoch 00049: val_accuracy did not improve from 0.99535\n",
            "Epoch 50/100\n",
            "24/24 [==============================] - 30s 1s/step - loss: 0.0388 - accuracy: 0.9868 - val_loss: 0.0588 - val_accuracy: 0.9814\n",
            "\n",
            "Epoch 00050: val_accuracy did not improve from 0.99535\n",
            "Epoch 51/100\n",
            "24/24 [==============================] - 31s 1s/step - loss: 0.0364 - accuracy: 0.9854 - val_loss: 0.0530 - val_accuracy: 0.9814\n",
            "\n",
            "Epoch 00051: val_accuracy did not improve from 0.99535\n",
            "Epoch 52/100\n",
            "24/24 [==============================] - 30s 1s/step - loss: 0.0487 - accuracy: 0.9821 - val_loss: 0.0389 - val_accuracy: 0.9860\n",
            "\n",
            "Epoch 00052: val_accuracy did not improve from 0.99535\n",
            "Epoch 53/100\n",
            "24/24 [==============================] - 29s 1s/step - loss: 0.0457 - accuracy: 0.9835 - val_loss: 0.0491 - val_accuracy: 0.9814\n",
            "\n",
            "Epoch 00053: val_accuracy did not improve from 0.99535\n",
            "Epoch 54/100\n",
            "24/24 [==============================] - 27s 1s/step - loss: 0.0325 - accuracy: 0.9881 - val_loss: 0.0554 - val_accuracy: 0.9860\n",
            "\n",
            "Epoch 00054: val_accuracy did not improve from 0.99535\n",
            "Epoch 55/100\n",
            "24/24 [==============================] - 28s 1s/step - loss: 0.0356 - accuracy: 0.9868 - val_loss: 0.0322 - val_accuracy: 0.9860\n",
            "\n",
            "Epoch 00055: val_accuracy did not improve from 0.99535\n",
            "Epoch 56/100\n",
            "24/24 [==============================] - 28s 1s/step - loss: 0.0336 - accuracy: 0.9887 - val_loss: 0.0242 - val_accuracy: 0.9860\n",
            "\n",
            "Epoch 00056: val_accuracy did not improve from 0.99535\n",
            "Epoch 57/100\n",
            "24/24 [==============================] - 28s 1s/step - loss: 0.0465 - accuracy: 0.9868 - val_loss: 0.0251 - val_accuracy: 0.9860\n",
            "\n",
            "Epoch 00057: val_accuracy did not improve from 0.99535\n",
            "Epoch 58/100\n",
            "24/24 [==============================] - 28s 1s/step - loss: 0.0445 - accuracy: 0.9887 - val_loss: 0.0326 - val_accuracy: 0.9907\n",
            "\n",
            "Epoch 00058: val_accuracy did not improve from 0.99535\n",
            "Epoch 59/100\n",
            "24/24 [==============================] - 28s 1s/step - loss: 0.0399 - accuracy: 0.9868 - val_loss: 0.0172 - val_accuracy: 0.9907\n",
            "\n",
            "Epoch 00059: val_accuracy did not improve from 0.99535\n",
            "Epoch 60/100\n",
            "24/24 [==============================] - 27s 1s/step - loss: 0.0459 - accuracy: 0.9868 - val_loss: 0.0303 - val_accuracy: 0.9860\n",
            "\n",
            "Epoch 00060: val_accuracy did not improve from 0.99535\n",
            "Epoch 61/100\n",
            "24/24 [==============================] - 28s 1s/step - loss: 0.0302 - accuracy: 0.9907 - val_loss: 0.0545 - val_accuracy: 0.9814\n",
            "\n",
            "Epoch 00061: val_accuracy did not improve from 0.99535\n",
            "Epoch 62/100\n",
            "24/24 [==============================] - 28s 1s/step - loss: 0.0250 - accuracy: 0.9921 - val_loss: 0.0222 - val_accuracy: 0.9907\n",
            "\n",
            "Epoch 00062: val_accuracy did not improve from 0.99535\n",
            "Epoch 63/100\n",
            "24/24 [==============================] - 29s 1s/step - loss: 0.0260 - accuracy: 0.9914 - val_loss: 0.0244 - val_accuracy: 0.9907\n",
            "\n",
            "Epoch 00063: val_accuracy did not improve from 0.99535\n",
            "Epoch 64/100\n",
            "24/24 [==============================] - 28s 1s/step - loss: 0.0443 - accuracy: 0.9861 - val_loss: 0.0627 - val_accuracy: 0.9721\n",
            "\n",
            "Epoch 00064: val_accuracy did not improve from 0.99535\n",
            "Epoch 65/100\n",
            "24/24 [==============================] - 28s 1s/step - loss: 0.0384 - accuracy: 0.9861 - val_loss: 0.0323 - val_accuracy: 0.9860\n",
            "\n",
            "Epoch 00065: val_accuracy did not improve from 0.99535\n",
            "Epoch 66/100\n",
            "24/24 [==============================] - 28s 1s/step - loss: 0.0286 - accuracy: 0.9868 - val_loss: 0.0861 - val_accuracy: 0.9767\n",
            "\n",
            "Epoch 00066: val_accuracy did not improve from 0.99535\n",
            "Epoch 67/100\n",
            "24/24 [==============================] - 27s 1s/step - loss: 0.0408 - accuracy: 0.9874 - val_loss: 0.0360 - val_accuracy: 0.9907\n",
            "\n",
            "Epoch 00067: val_accuracy did not improve from 0.99535\n",
            "Epoch 68/100\n",
            "24/24 [==============================] - 28s 1s/step - loss: 0.0356 - accuracy: 0.9901 - val_loss: 0.0274 - val_accuracy: 0.9907\n",
            "\n",
            "Epoch 00068: val_accuracy did not improve from 0.99535\n",
            "Epoch 69/100\n",
            "24/24 [==============================] - 27s 1s/step - loss: 0.0305 - accuracy: 0.9887 - val_loss: 0.0389 - val_accuracy: 0.9814\n",
            "\n",
            "Epoch 00069: val_accuracy did not improve from 0.99535\n",
            "Epoch 70/100\n",
            "24/24 [==============================] - 28s 1s/step - loss: 0.0330 - accuracy: 0.9854 - val_loss: 0.0310 - val_accuracy: 0.9953\n",
            "\n",
            "Epoch 00070: val_accuracy did not improve from 0.99535\n",
            "Epoch 71/100\n",
            "24/24 [==============================] - 28s 1s/step - loss: 0.0345 - accuracy: 0.9887 - val_loss: 0.0353 - val_accuracy: 0.9860\n",
            "\n",
            "Epoch 00071: val_accuracy did not improve from 0.99535\n",
            "Epoch 72/100\n",
            "24/24 [==============================] - 28s 1s/step - loss: 0.0256 - accuracy: 0.9921 - val_loss: 0.0370 - val_accuracy: 0.9814\n",
            "\n",
            "Epoch 00072: val_accuracy did not improve from 0.99535\n",
            "Epoch 73/100\n",
            "24/24 [==============================] - 27s 1s/step - loss: 0.0275 - accuracy: 0.9907 - val_loss: 0.0093 - val_accuracy: 0.9953\n",
            "\n",
            "Epoch 00073: val_accuracy did not improve from 0.99535\n",
            "Epoch 74/100\n",
            "24/24 [==============================] - 27s 1s/step - loss: 0.0284 - accuracy: 0.9927 - val_loss: 0.0521 - val_accuracy: 0.9814\n",
            "\n",
            "Epoch 00074: val_accuracy did not improve from 0.99535\n",
            "Epoch 75/100\n",
            "24/24 [==============================] - 28s 1s/step - loss: 0.0316 - accuracy: 0.9887 - val_loss: 0.0221 - val_accuracy: 0.9860\n",
            "\n",
            "Epoch 00075: val_accuracy did not improve from 0.99535\n",
            "Epoch 76/100\n",
            "24/24 [==============================] - 27s 1s/step - loss: 0.0292 - accuracy: 0.9894 - val_loss: 0.0480 - val_accuracy: 0.9814\n",
            "\n",
            "Epoch 00076: val_accuracy did not improve from 0.99535\n",
            "Epoch 77/100\n",
            "24/24 [==============================] - 27s 1s/step - loss: 0.0351 - accuracy: 0.9894 - val_loss: 0.0185 - val_accuracy: 0.9953\n",
            "\n",
            "Epoch 00077: val_accuracy did not improve from 0.99535\n",
            "Epoch 78/100\n",
            "24/24 [==============================] - 27s 1s/step - loss: 0.0295 - accuracy: 0.9894 - val_loss: 0.0240 - val_accuracy: 0.9907\n",
            "\n",
            "Epoch 00078: val_accuracy did not improve from 0.99535\n",
            "Epoch 79/100\n",
            "24/24 [==============================] - 28s 1s/step - loss: 0.0268 - accuracy: 0.9914 - val_loss: 0.0146 - val_accuracy: 0.9907\n",
            "\n",
            "Epoch 00079: val_accuracy did not improve from 0.99535\n",
            "Epoch 80/100\n",
            "24/24 [==============================] - 28s 1s/step - loss: 0.0378 - accuracy: 0.9868 - val_loss: 0.0550 - val_accuracy: 0.9767\n",
            "\n",
            "Epoch 00080: val_accuracy did not improve from 0.99535\n",
            "Epoch 81/100\n",
            "24/24 [==============================] - 27s 1s/step - loss: 0.0328 - accuracy: 0.9881 - val_loss: 0.0473 - val_accuracy: 0.9860\n",
            "\n",
            "Epoch 00081: val_accuracy did not improve from 0.99535\n",
            "Epoch 82/100\n",
            "24/24 [==============================] - 28s 1s/step - loss: 0.0374 - accuracy: 0.9868 - val_loss: 0.0484 - val_accuracy: 0.9814\n",
            "\n",
            "Epoch 00082: val_accuracy did not improve from 0.99535\n",
            "Epoch 83/100\n",
            "24/24 [==============================] - 28s 1s/step - loss: 0.0337 - accuracy: 0.9854 - val_loss: 0.0300 - val_accuracy: 0.9860\n",
            "\n",
            "Epoch 00083: val_accuracy did not improve from 0.99535\n",
            "Epoch 84/100\n",
            "24/24 [==============================] - 27s 1s/step - loss: 0.0201 - accuracy: 0.9914 - val_loss: 0.0446 - val_accuracy: 0.9907\n",
            "\n",
            "Epoch 00084: val_accuracy did not improve from 0.99535\n",
            "Epoch 85/100\n",
            "24/24 [==============================] - 28s 1s/step - loss: 0.0289 - accuracy: 0.9907 - val_loss: 0.0149 - val_accuracy: 0.9953\n",
            "\n",
            "Epoch 00085: val_accuracy did not improve from 0.99535\n",
            "Epoch 86/100\n",
            "24/24 [==============================] - 28s 1s/step - loss: 0.0275 - accuracy: 0.9914 - val_loss: 0.0156 - val_accuracy: 0.9907\n",
            "\n",
            "Epoch 00086: val_accuracy did not improve from 0.99535\n",
            "Epoch 87/100\n",
            "24/24 [==============================] - 27s 1s/step - loss: 0.0232 - accuracy: 0.9914 - val_loss: 0.0346 - val_accuracy: 0.9814\n",
            "\n",
            "Epoch 00087: val_accuracy did not improve from 0.99535\n",
            "Epoch 88/100\n",
            "24/24 [==============================] - 27s 1s/step - loss: 0.0321 - accuracy: 0.9887 - val_loss: 0.0313 - val_accuracy: 0.9860\n",
            "\n",
            "Epoch 00088: val_accuracy did not improve from 0.99535\n",
            "Epoch 89/100\n",
            "24/24 [==============================] - 27s 1s/step - loss: 0.0268 - accuracy: 0.9894 - val_loss: 0.0370 - val_accuracy: 0.9860\n",
            "\n",
            "Epoch 00089: val_accuracy did not improve from 0.99535\n",
            "Epoch 90/100\n",
            "24/24 [==============================] - 28s 1s/step - loss: 0.0335 - accuracy: 0.9835 - val_loss: 0.0292 - val_accuracy: 0.9860\n",
            "\n",
            "Epoch 00090: val_accuracy did not improve from 0.99535\n",
            "Epoch 91/100\n",
            "24/24 [==============================] - 28s 1s/step - loss: 0.0389 - accuracy: 0.9887 - val_loss: 0.0315 - val_accuracy: 0.9860\n",
            "\n",
            "Epoch 00091: val_accuracy did not improve from 0.99535\n",
            "Epoch 92/100\n",
            "24/24 [==============================] - 27s 1s/step - loss: 0.0194 - accuracy: 0.9960 - val_loss: 0.0410 - val_accuracy: 0.9814\n",
            "\n",
            "Epoch 00092: val_accuracy did not improve from 0.99535\n",
            "Epoch 93/100\n",
            "24/24 [==============================] - 27s 1s/step - loss: 0.0160 - accuracy: 0.9954 - val_loss: 0.0243 - val_accuracy: 0.9953\n",
            "\n",
            "Epoch 00093: val_accuracy did not improve from 0.99535\n",
            "Epoch 94/100\n",
            "24/24 [==============================] - 28s 1s/step - loss: 0.0355 - accuracy: 0.9887 - val_loss: 0.0274 - val_accuracy: 0.9860\n",
            "\n",
            "Epoch 00094: val_accuracy did not improve from 0.99535\n",
            "Epoch 95/100\n",
            "24/24 [==============================] - 27s 1s/step - loss: 0.0313 - accuracy: 0.9861 - val_loss: 0.0217 - val_accuracy: 0.9953\n",
            "\n",
            "Epoch 00095: val_accuracy did not improve from 0.99535\n",
            "Epoch 96/100\n",
            "24/24 [==============================] - 28s 1s/step - loss: 0.0311 - accuracy: 0.9907 - val_loss: 0.0130 - val_accuracy: 0.9953\n",
            "\n",
            "Epoch 00096: val_accuracy did not improve from 0.99535\n",
            "Epoch 97/100\n",
            "24/24 [==============================] - 28s 1s/step - loss: 0.0273 - accuracy: 0.9894 - val_loss: 0.0190 - val_accuracy: 0.9953\n",
            "\n",
            "Epoch 00097: val_accuracy did not improve from 0.99535\n",
            "Epoch 98/100\n",
            "24/24 [==============================] - 28s 1s/step - loss: 0.0322 - accuracy: 0.9887 - val_loss: 0.0158 - val_accuracy: 0.9907\n",
            "\n",
            "Epoch 00098: val_accuracy did not improve from 0.99535\n",
            "Epoch 99/100\n",
            "24/24 [==============================] - 27s 1s/step - loss: 0.0333 - accuracy: 0.9887 - val_loss: 0.0314 - val_accuracy: 0.9767\n",
            "\n",
            "Epoch 00099: val_accuracy did not improve from 0.99535\n",
            "Epoch 100/100\n",
            "24/24 [==============================] - 30s 1s/step - loss: 0.0217 - accuracy: 0.9927 - val_loss: 0.0208 - val_accuracy: 0.9953\n",
            "\n",
            "Epoch 00100: val_accuracy did not improve from 0.99535\n"
          ]
        }
      ],
      "source": [
        "results = model.fit(train_image_gen,epochs=100,\n",
        "                              validation_data=val_image_gen,\n",
        "                             callbacks=[checkpoint_callback])"
      ]
    },
    {
      "cell_type": "code",
      "execution_count": null,
      "metadata": {
        "colab": {
          "base_uri": "https://localhost:8080/",
          "height": 677
        },
        "id": "yD1btYI8FGRE",
        "outputId": "cb223b54-fd2d-4b19-869e-eb7125d791e2"
      },
      "outputs": [
        {
          "data": {
            "text/html": [
              "<div>\n",
              "<style scoped>\n",
              "    .dataframe tbody tr th:only-of-type {\n",
              "        vertical-align: middle;\n",
              "    }\n",
              "\n",
              "    .dataframe tbody tr th {\n",
              "        vertical-align: top;\n",
              "    }\n",
              "\n",
              "    .dataframe thead th {\n",
              "        text-align: right;\n",
              "    }\n",
              "</style>\n",
              "<table border=\"1\" class=\"dataframe\">\n",
              "  <thead>\n",
              "    <tr style=\"text-align: right;\">\n",
              "      <th></th>\n",
              "      <th>loss</th>\n",
              "      <th>accuracy</th>\n",
              "      <th>val_loss</th>\n",
              "      <th>val_accuracy</th>\n",
              "    </tr>\n",
              "  </thead>\n",
              "  <tbody>\n",
              "    <tr>\n",
              "      <th>0</th>\n",
              "      <td>0.556255</td>\n",
              "      <td>0.716744</td>\n",
              "      <td>0.440400</td>\n",
              "      <td>0.734884</td>\n",
              "    </tr>\n",
              "    <tr>\n",
              "      <th>1</th>\n",
              "      <td>0.327895</td>\n",
              "      <td>0.856386</td>\n",
              "      <td>0.182845</td>\n",
              "      <td>0.939535</td>\n",
              "    </tr>\n",
              "    <tr>\n",
              "      <th>2</th>\n",
              "      <td>0.238209</td>\n",
              "      <td>0.912641</td>\n",
              "      <td>0.150497</td>\n",
              "      <td>0.962791</td>\n",
              "    </tr>\n",
              "    <tr>\n",
              "      <th>3</th>\n",
              "      <td>0.207404</td>\n",
              "      <td>0.925215</td>\n",
              "      <td>0.130300</td>\n",
              "      <td>0.967442</td>\n",
              "    </tr>\n",
              "    <tr>\n",
              "      <th>4</th>\n",
              "      <td>0.177849</td>\n",
              "      <td>0.946393</td>\n",
              "      <td>0.123440</td>\n",
              "      <td>0.962791</td>\n",
              "    </tr>\n",
              "    <tr>\n",
              "      <th>...</th>\n",
              "      <td>...</td>\n",
              "      <td>...</td>\n",
              "      <td>...</td>\n",
              "      <td>...</td>\n",
              "    </tr>\n",
              "    <tr>\n",
              "      <th>95</th>\n",
              "      <td>0.031143</td>\n",
              "      <td>0.990735</td>\n",
              "      <td>0.012980</td>\n",
              "      <td>0.995349</td>\n",
              "    </tr>\n",
              "    <tr>\n",
              "      <th>96</th>\n",
              "      <td>0.027321</td>\n",
              "      <td>0.989411</td>\n",
              "      <td>0.018985</td>\n",
              "      <td>0.995349</td>\n",
              "    </tr>\n",
              "    <tr>\n",
              "      <th>97</th>\n",
              "      <td>0.032153</td>\n",
              "      <td>0.988749</td>\n",
              "      <td>0.015805</td>\n",
              "      <td>0.990698</td>\n",
              "    </tr>\n",
              "    <tr>\n",
              "      <th>98</th>\n",
              "      <td>0.033326</td>\n",
              "      <td>0.988749</td>\n",
              "      <td>0.031400</td>\n",
              "      <td>0.976744</td>\n",
              "    </tr>\n",
              "    <tr>\n",
              "      <th>99</th>\n",
              "      <td>0.021661</td>\n",
              "      <td>0.992720</td>\n",
              "      <td>0.020800</td>\n",
              "      <td>0.995349</td>\n",
              "    </tr>\n",
              "  </tbody>\n",
              "</table>\n",
              "<p>100 rows × 4 columns</p>\n",
              "</div>"
            ],
            "text/plain": [
              "        loss  accuracy  val_loss  val_accuracy\n",
              "0   0.556255  0.716744  0.440400      0.734884\n",
              "1   0.327895  0.856386  0.182845      0.939535\n",
              "2   0.238209  0.912641  0.150497      0.962791\n",
              "3   0.207404  0.925215  0.130300      0.967442\n",
              "4   0.177849  0.946393  0.123440      0.962791\n",
              "..       ...       ...       ...           ...\n",
              "95  0.031143  0.990735  0.012980      0.995349\n",
              "96  0.027321  0.989411  0.018985      0.995349\n",
              "97  0.032153  0.988749  0.015805      0.990698\n",
              "98  0.033326  0.988749  0.031400      0.976744\n",
              "99  0.021661  0.992720  0.020800      0.995349\n",
              "\n",
              "[100 rows x 4 columns]"
            ]
          },
          "execution_count": 22,
          "metadata": {},
          "output_type": "execute_result"
        }
      ],
      "source": [
        "loss_df = pd.DataFrame(model.history.history)\n",
        "loss_df"
      ]
    },
    {
      "cell_type": "code",
      "execution_count": null,
      "metadata": {
        "colab": {
          "base_uri": "https://localhost:8080/",
          "height": 283
        },
        "id": "Yeeje05zXkiK",
        "outputId": "c44d8c84-6e79-4f2f-9d9e-ab3b258929b8"
      },
      "outputs": [
        {
          "data": {
            "text/plain": [
              "<AxesSubplot:>"
            ]
          },
          "execution_count": 23,
          "metadata": {},
          "output_type": "execute_result"
        },
        {
          "data": {
            "image/png": "[encoded data removed]",
            "text/plain": [
              "<Figure size 432x288 with 1 Axes>"
            ]
          },
          "metadata": {
            "needs_background": "light"
          },
          "output_type": "display_data"
        }
      ],
      "source": [
        "loss_df[['accuracy', 'val_accuracy']].plot()"
      ]
    },
    {
      "cell_type": "code",
      "execution_count": null,
      "metadata": {
        "colab": {
          "base_uri": "https://localhost:8080/",
          "height": 282
        },
        "id": "j4f7dGzHXlWN",
        "outputId": "d46301db-238b-47b2-c584-6712a5d3832d"
      },
      "outputs": [
        {
          "data": {
            "text/plain": [
              "<AxesSubplot:>"
            ]
          },
          "execution_count": 24,
          "metadata": {},
          "output_type": "execute_result"
        },
        {
          "data": {
            "image/png": "[encoded data removed]",
            "text/plain": [
              "<Figure size 432x288 with 1 Axes>"
            ]
          },
          "metadata": {
            "needs_background": "light"
          },
          "output_type": "display_data"
        }
      ],
      "source": [
        "loss_df[['loss', 'val_loss']].plot()"
      ]
    },
    {
      "cell_type": "code",
      "execution_count": null,
      "metadata": {
        "colab": {
          "base_uri": "https://localhost:8080/"
        },
        "id": "fandfEXXBltT",
        "outputId": "2a430166-c784-413d-f54c-fba659927a91"
      },
      "outputs": [
        {
          "name": "stdout",
          "output_type": "stream",
          "text": [
            "7/7 [==============================] - 23s 4s/step - loss: 0.0151 - accuracy: 0.9954\n"
          ]
        },
        {
          "data": {
            "text/plain": [
              "[0.015124051831662655, 0.9953703880310059]"
            ]
          },
          "execution_count": 25,
          "metadata": {},
          "output_type": "execute_result"
        }
      ],
      "source": [
        "model.evaluate(test_image_gen)"
      ]
    },
    {
      "cell_type": "code",
      "execution_count": null,
      "metadata": {
        "colab": {
          "base_uri": "https://localhost:8080/"
        },
        "id": "e4VBIEhjBmUC",
        "outputId": "b93cb0b8-6e71-452f-bf38-911871aa6cda"
      },
      "outputs": [
        {
          "data": {
            "text/plain": [
              "array([0, 0, 0, 0, 0, 0, 0, 0, 0, 0, 0, 0, 0, 0, 0, 0, 0, 0, 0, 0, 0, 0,\n",
              "       0, 0, 0, 0, 0, 0, 0, 0, 0, 0, 0, 0, 0, 0, 0, 0, 0, 0, 0, 0, 0, 0,\n",
              "       0, 0, 0, 0, 0, 0, 0, 0, 0, 0, 0, 0, 0, 0, 1, 0, 0, 1, 0, 0, 0, 0,\n",
              "       0, 0, 0, 0, 0, 0, 0, 0, 0, 0, 0, 0, 0, 0, 0, 0, 0, 0, 0, 0, 0, 0,\n",
              "       0, 0, 0, 0, 0, 0, 0, 0, 0, 0, 0, 0, 0, 0, 0, 0, 0, 0, 0, 0, 0, 0,\n",
              "       0, 0, 0, 0, 0, 0, 1, 1, 1, 1, 1, 1, 1, 1, 1, 1, 1, 1, 1, 1, 1, 1,\n",
              "       1, 1, 1, 1, 1, 1, 1, 1, 1, 1, 1, 1, 1, 1, 1, 1, 1, 1, 1, 1, 1, 1,\n",
              "       1, 1, 1, 1, 0, 0, 1, 1, 1, 1, 1, 1, 1, 1, 1, 1, 1, 1, 1, 1, 1, 1,\n",
              "       1, 1, 1, 1, 1, 1, 1, 1, 1, 1, 1, 1, 1, 1, 1, 1, 1, 1, 1, 1, 1, 1,\n",
              "       1, 1, 1, 1, 1, 1, 1, 1, 1, 1, 1, 1, 1, 1, 1, 1, 1, 1, 1, 1, 1, 1,\n",
              "       1, 1, 1, 1, 1, 1, 1, 1, 1, 1, 1, 1, 1, 1, 1, 1, 1, 1, 1, 1, 1, 1,\n",
              "       1, 1, 1, 1, 1, 1, 1, 1, 1, 1, 1, 1, 1, 1, 1, 1, 1, 1, 1, 1, 1, 1,\n",
              "       1, 1, 1, 1, 1, 1, 1, 1, 1, 1, 1, 1, 1, 1, 1, 1, 1, 1, 1, 1, 1, 1,\n",
              "       1, 1, 1, 1, 1, 1, 1, 1, 1, 1, 1, 1, 1, 1, 1, 1, 1, 1, 1, 1, 1, 1,\n",
              "       1, 1, 1, 1, 1, 1, 1, 1, 1, 1, 1, 1, 1, 1, 1, 1, 1, 1, 1, 1, 1, 1,\n",
              "       1, 1, 1, 1, 1, 1, 1, 1, 1, 1, 1, 1, 1, 1, 1, 1, 1, 1, 1, 1, 1, 1,\n",
              "       1, 1, 1, 1, 1, 1, 1, 1, 1, 1, 1, 1, 1, 1, 1, 1, 1, 1, 1, 1, 1, 1,\n",
              "       1, 1, 1, 1, 1, 1, 1, 1, 1, 1, 1, 1, 1, 1, 1, 1, 1, 1, 1, 1, 1, 1,\n",
              "       1, 1, 1, 1, 1, 1, 1, 1, 1, 1, 1, 1, 1, 1, 1, 1, 1, 1, 1, 1, 1, 1,\n",
              "       1, 1, 1, 1, 1, 1, 1, 1, 1, 1, 1, 1, 1, 1], dtype=int64)"
            ]
          },
          "execution_count": 26,
          "metadata": {},
          "output_type": "execute_result"
        }
      ],
      "source": [
        "predictions = np.argmax(model.predict(test_image_gen), axis = -1)\n",
        "predictions"
      ]
    },
    {
      "cell_type": "code",
      "execution_count": null,
      "metadata": {
        "colab": {
          "base_uri": "https://localhost:8080/"
        },
        "id": "G0jD0Qb4BmYg",
        "outputId": "ea1ab5bf-073e-4bd1-ec71-635e635d448c"
      },
      "outputs": [
        {
          "name": "stdout",
          "output_type": "stream",
          "text": [
            "              precision    recall  f1-score   support\n",
            "\n",
            "           0       0.98      0.98      0.98       116\n",
            "           1       0.99      0.99      0.99       316\n",
            "\n",
            "    accuracy                           0.99       432\n",
            "   macro avg       0.99      0.99      0.99       432\n",
            "weighted avg       0.99      0.99      0.99       432\n",
            "\n"
          ]
        }
      ],
      "source": [
        "from sklearn.metrics import classification_report, confusion_matrix\n",
        "print(classification_report(test_image_gen.classes,predictions))"
      ]
    },
    {
      "cell_type": "code",
      "execution_count": null,
      "metadata": {
        "colab": {
          "base_uri": "https://localhost:8080/",
          "height": 334
        },
        "id": "KTyVqtCbNg-f",
        "outputId": "7c71b28d-73bd-4500-d733-66c479e656ec"
      },
      "outputs": [
        {
          "name": "stdout",
          "output_type": "stream",
          "text": [
            "[[114   2]\n",
            " [  2 314]]\n"
          ]
        },
        {
          "data": {
            "text/plain": [
              "<AxesSubplot:>"
            ]
          },
          "execution_count": 28,
          "metadata": {},
          "output_type": "execute_result"
        },
        {
          "data": {
            "image/png": "[encoded data removed]",
            "text/plain": [
              "<Figure size 432x288 with 2 Axes>"
            ]
          },
          "metadata": {
            "needs_background": "light"
          },
          "output_type": "display_data"
        }
      ],
      "source": [
        "print(confusion_matrix(test_image_gen.classes,predictions))\n",
        "sns.heatmap(confusion_matrix(test_image_gen.classes,predictions), annot = True)"
      ]
    }
  ],
  "metadata": {
    "accelerator": "GPU",
    "colab": {
      "collapsed_sections": [],
      "name": "Final Code Model CNN.ipynb",
      "provenance": [],
      "include_colab_link": true
    },
    "kernelspec": {
      "display_name": "Python 3 (ipykernel)",
      "language": "python",
      "name": "python3"
    },
    "language_info": {
      "codemirror_mode": {
        "name": "ipython",
        "version": 3
      },
      "file_extension": ".py",
      "mimetype": "text/x-python",
      "name": "python",
      "nbconvert_exporter": "python",
      "pygments_lexer": "ipython3",
      "version": "3.9.9"
    }
  },
  "nbformat": 4,
  "nbformat_minor": 0
}