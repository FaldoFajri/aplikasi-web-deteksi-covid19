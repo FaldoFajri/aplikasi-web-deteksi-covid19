{
  "cells": [
    {
      "cell_type": "markdown",
      "metadata": {
        "id": "view-in-github",
        "colab_type": "text"
      },
      "source": [
        "<a href=\"https://colab.research.google.com/github/FaldoFajri/aplikasi-web-deteksi-covid19/blob/main/Final_Code_Model_Transfer_Learning_VGG16.ipynb\" target=\"_parent\"><img src=\"https://colab.research.google.com/assets/colab-badge.svg\" alt=\"Open In Colab\"/></a>"
      ]
    },
    {
      "cell_type": "code",
      "source": [
        "!git clone https://github.com/FaldoFajri/tubes-mesinbelajar.git"
      ],
      "metadata": {
        "id": "g_vr2Vw0rouZ"
      },
      "id": "g_vr2Vw0rouZ",
      "execution_count": null,
      "outputs": []
    },
    {
      "cell_type": "code",
      "execution_count": null,
      "id": "2a6839db",
      "metadata": {
        "id": "2a6839db"
      },
      "outputs": [],
      "source": [
        "import numpy as np # linear algebra\n",
        "import pandas as pd # data processing, CSV file I/O (e.g. pd.read_csv)\n",
        "\n",
        "import pandas as pd\n",
        "import numpy as np \n",
        "import seaborn as sns\n",
        "import matplotlib.pyplot as plt \n",
        "import warnings\n",
        "warnings.filterwarnings('ignore')\n",
        "\n",
        "from tensorflow.keras.preprocessing.image import ImageDataGenerator\n",
        "from tensorflow.keras.models import Sequential\n",
        "from tensorflow.keras.layers import Activation, Dropout, Flatten, Dense, Conv2D, MaxPooling2D\n",
        "from tensorflow.keras.callbacks import EarlyStopping, ModelCheckpoint, ReduceLROnPlateau\n",
        "\n",
        "%matplotlib inline"
      ]
    },
    {
      "cell_type": "code",
      "execution_count": null,
      "id": "63643a7a",
      "metadata": {
        "id": "63643a7a"
      },
      "outputs": [],
      "source": [
        "test_dir = \"/content/tubes-mesinbelajar/dataset/test\"\n",
        "train_dir = \"/content/tubes-mesinbelajar/dataset/train\"\n",
        "val_dir = \"/content/tubes-mesinbelajar/dataset/val\""
      ]
    },
    {
      "cell_type": "code",
      "execution_count": null,
      "id": "38f74d62",
      "metadata": {
        "id": "38f74d62"
      },
      "outputs": [],
      "source": [
        "#DISINI SAYA MENGGUNAKAN MODEL VGG16\n",
        "\n",
        "from tensorflow.keras.applications.vgg16 import VGG16\n",
        "from tensorflow.keras.applications.vgg16 import preprocess_input\n",
        "\n",
        "base_model = VGG16(weights=\"imagenet\", include_top=False, input_shape=(100,100,3))\n",
        "base_model.trainable = False"
      ]
    },
    {
      "cell_type": "code",
      "execution_count": null,
      "id": "5187f141",
      "metadata": {
        "id": "5187f141",
        "outputId": "8193f5e1-24dd-4352-e468-f04fb19908c9"
      },
      "outputs": [
        {
          "name": "stdout",
          "output_type": "stream",
          "text": [
            "Model: \"vgg16\"\n",
            "_________________________________________________________________\n",
            " Layer (type)                Output Shape              Param #   \n",
            "=================================================================\n",
            " input_1 (InputLayer)        [(None, 100, 100, 3)]     0         \n",
            "                                                                 \n",
            " block1_conv1 (Conv2D)       (None, 100, 100, 64)      1792      \n",
            "                                                                 \n",
            " block1_conv2 (Conv2D)       (None, 100, 100, 64)      36928     \n",
            "                                                                 \n",
            " block1_pool (MaxPooling2D)  (None, 50, 50, 64)        0         \n",
            "                                                                 \n",
            " block2_conv1 (Conv2D)       (None, 50, 50, 128)       73856     \n",
            "                                                                 \n",
            " block2_conv2 (Conv2D)       (None, 50, 50, 128)       147584    \n",
            "                                                                 \n",
            " block2_pool (MaxPooling2D)  (None, 25, 25, 128)       0         \n",
            "                                                                 \n",
            " block3_conv1 (Conv2D)       (None, 25, 25, 256)       295168    \n",
            "                                                                 \n",
            " block3_conv2 (Conv2D)       (None, 25, 25, 256)       590080    \n",
            "                                                                 \n",
            " block3_conv3 (Conv2D)       (None, 25, 25, 256)       590080    \n",
            "                                                                 \n",
            " block3_pool (MaxPooling2D)  (None, 12, 12, 256)       0         \n",
            "                                                                 \n",
            " block4_conv1 (Conv2D)       (None, 12, 12, 512)       1180160   \n",
            "                                                                 \n",
            " block4_conv2 (Conv2D)       (None, 12, 12, 512)       2359808   \n",
            "                                                                 \n",
            " block4_conv3 (Conv2D)       (None, 12, 12, 512)       2359808   \n",
            "                                                                 \n",
            " block4_pool (MaxPooling2D)  (None, 6, 6, 512)         0         \n",
            "                                                                 \n",
            " block5_conv1 (Conv2D)       (None, 6, 6, 512)         2359808   \n",
            "                                                                 \n",
            " block5_conv2 (Conv2D)       (None, 6, 6, 512)         2359808   \n",
            "                                                                 \n",
            " block5_conv3 (Conv2D)       (None, 6, 6, 512)         2359808   \n",
            "                                                                 \n",
            " block5_pool (MaxPooling2D)  (None, 3, 3, 512)         0         \n",
            "                                                                 \n",
            "=================================================================\n",
            "Total params: 14,714,688\n",
            "Trainable params: 0\n",
            "Non-trainable params: 14,714,688\n",
            "_________________________________________________________________\n"
          ]
        }
      ],
      "source": [
        "base_model.summary()"
      ]
    },
    {
      "cell_type": "code",
      "execution_count": null,
      "id": "f567f550",
      "metadata": {
        "id": "f567f550"
      },
      "outputs": [],
      "source": [
        "from tensorflow.keras import layers, models\n",
        "\n",
        "flatten_layer = layers.Flatten()\n",
        "dense_layer_1 = layers.Dense(64, activation='relu')\n",
        "dense_layer_2 = layers.Dense(20, activation='relu')\n",
        "prediction_layer = layers.Dense(2, activation='softmax')\n",
        "\n",
        "model = models.Sequential([\n",
        "    base_model,\n",
        "    flatten_layer,\n",
        "    dense_layer_1,\n",
        "    prediction_layer\n",
        "])"
      ]
    },
    {
      "cell_type": "code",
      "execution_count": null,
      "id": "f753eff5",
      "metadata": {
        "id": "f753eff5"
      },
      "outputs": [],
      "source": [
        "image_shape = (100,100,3)\n",
        "image_gen = ImageDataGenerator(rotation_range=20,\n",
        "                               width_shift_range=0.10,\n",
        "                               height_shift_range=0.10,\n",
        "                               rescale=1/255,\n",
        "                               shear_range=0.1,\n",
        "                               zoom_range=0.1,\n",
        "                               horizontal_flip=True,\n",
        "                               fill_mode='nearest')"
      ]
    },
    {
      "cell_type": "code",
      "execution_count": null,
      "id": "3ec18e5d",
      "metadata": {
        "id": "3ec18e5d",
        "outputId": "c975871f-ea15-4446-fc49-9437702248cd"
      },
      "outputs": [
        {
          "name": "stdout",
          "output_type": "stream",
          "text": [
            "Found 1511 images belonging to 2 classes.\n"
          ]
        }
      ],
      "source": [
        "train_image_gen = image_gen.flow_from_directory(train_dir,\n",
        "                                               target_size=(100,100),\n",
        "                                               batch_size=32,\n",
        "                                               class_mode='categorical')"
      ]
    },
    {
      "cell_type": "code",
      "execution_count": null,
      "id": "e322523b",
      "metadata": {
        "id": "e322523b",
        "outputId": "bde8ce45-98ed-4ced-e93d-b3f538a1e1c1"
      },
      "outputs": [
        {
          "name": "stdout",
          "output_type": "stream",
          "text": [
            "Found 215 images belonging to 2 classes.\n"
          ]
        }
      ],
      "source": [
        "val_image_gen = image_gen.flow_from_directory(val_dir,\n",
        "                                               target_size=(100,100),\n",
        "                                               batch_size=32,\n",
        "                                               class_mode='categorical',shuffle=False)"
      ]
    },
    {
      "cell_type": "code",
      "execution_count": null,
      "id": "4e385658",
      "metadata": {
        "id": "4e385658",
        "outputId": "97551193-574d-4074-a9cb-0f8ada000636"
      },
      "outputs": [
        {
          "name": "stdout",
          "output_type": "stream",
          "text": [
            "Found 432 images belonging to 2 classes.\n"
          ]
        }
      ],
      "source": [
        "test_image_gen = image_gen.flow_from_directory(test_dir,\n",
        "                                               target_size=(100,100),\n",
        "                                               batch_size=32,\n",
        "                                               class_mode='categorical',shuffle=False)"
      ]
    },
    {
      "cell_type": "code",
      "execution_count": null,
      "id": "89a976be",
      "metadata": {
        "id": "89a976be"
      },
      "outputs": [],
      "source": [
        "from tensorflow.keras.optimizers import Adam\n",
        "from tensorflow.keras.callbacks import EarlyStopping\n",
        "# Compile model\n",
        "model.compile(loss='binary_crossentropy',\n",
        "              optimizer=Adam(lr=0.000024),\n",
        "              metrics=['acc'])\n",
        "\n",
        "#es = EarlyStopping(monitor='val_acc', mode='max', patience=5, restore_best_weights=True)"
      ]
    },
    {
      "cell_type": "code",
      "execution_count": null,
      "id": "0c17d22b",
      "metadata": {
        "id": "0c17d22b",
        "outputId": "87332270-83e8-4acc-a8c1-bbf70364afe5"
      },
      "outputs": [
        {
          "name": "stdout",
          "output_type": "stream",
          "text": [
            "Epoch 1/100\n",
            "48/48 [==============================] - 30s 623ms/step - loss: 0.2891 - acc: 0.9226 - val_loss: 0.2703 - val_acc: 0.9070\n",
            "Epoch 2/100\n",
            "48/48 [==============================] - 30s 617ms/step - loss: 0.2496 - acc: 0.9298 - val_loss: 0.2205 - val_acc: 0.9488\n",
            "Epoch 3/100\n",
            "48/48 [==============================] - 29s 606ms/step - loss: 0.2152 - acc: 0.9510 - val_loss: 0.1989 - val_acc: 0.9442\n",
            "Epoch 4/100\n",
            "48/48 [==============================] - 29s 609ms/step - loss: 0.1839 - acc: 0.9610 - val_loss: 0.1720 - val_acc: 0.9721\n",
            "Epoch 5/100\n",
            "48/48 [==============================] - 30s 608ms/step - loss: 0.1686 - acc: 0.9616 - val_loss: 0.1620 - val_acc: 0.9488\n",
            "Epoch 6/100\n",
            "48/48 [==============================] - 30s 614ms/step - loss: 0.1537 - acc: 0.9682 - val_loss: 0.1494 - val_acc: 0.9674\n",
            "Epoch 7/100\n",
            "48/48 [==============================] - 30s 613ms/step - loss: 0.1383 - acc: 0.9742 - val_loss: 0.1375 - val_acc: 0.9674\n",
            "Epoch 8/100\n",
            "48/48 [==============================] - 30s 610ms/step - loss: 0.1287 - acc: 0.9735 - val_loss: 0.1314 - val_acc: 0.9721\n",
            "Epoch 9/100\n",
            "48/48 [==============================] - 30s 609ms/step - loss: 0.1201 - acc: 0.9729 - val_loss: 0.1286 - val_acc: 0.9721\n",
            "Epoch 10/100\n",
            "48/48 [==============================] - 30s 612ms/step - loss: 0.1106 - acc: 0.9729 - val_loss: 0.1268 - val_acc: 0.9581\n",
            "Epoch 11/100\n",
            "48/48 [==============================] - 30s 623ms/step - loss: 0.1108 - acc: 0.9735 - val_loss: 0.1102 - val_acc: 0.9767\n",
            "Epoch 12/100\n",
            "48/48 [==============================] - 30s 618ms/step - loss: 0.1038 - acc: 0.9729 - val_loss: 0.1076 - val_acc: 0.9628\n",
            "Epoch 13/100\n",
            "48/48 [==============================] - 29s 607ms/step - loss: 0.1013 - acc: 0.9729 - val_loss: 0.1020 - val_acc: 0.9721\n",
            "Epoch 14/100\n",
            "48/48 [==============================] - 30s 613ms/step - loss: 0.0905 - acc: 0.9801 - val_loss: 0.1164 - val_acc: 0.9581\n",
            "Epoch 15/100\n",
            "48/48 [==============================] - 30s 612ms/step - loss: 0.0888 - acc: 0.9768 - val_loss: 0.1087 - val_acc: 0.9674\n",
            "Epoch 16/100\n",
            "48/48 [==============================] - 30s 614ms/step - loss: 0.0845 - acc: 0.9788 - val_loss: 0.1049 - val_acc: 0.9581\n",
            "Epoch 17/100\n",
            "48/48 [==============================] - 30s 613ms/step - loss: 0.0862 - acc: 0.9768 - val_loss: 0.1010 - val_acc: 0.9767\n",
            "Epoch 18/100\n",
            "48/48 [==============================] - 30s 612ms/step - loss: 0.0791 - acc: 0.9801 - val_loss: 0.0686 - val_acc: 0.9860\n",
            "Epoch 19/100\n",
            "48/48 [==============================] - 29s 607ms/step - loss: 0.0768 - acc: 0.9788 - val_loss: 0.0716 - val_acc: 0.9860\n",
            "Epoch 20/100\n",
            "48/48 [==============================] - 30s 610ms/step - loss: 0.0798 - acc: 0.9801 - val_loss: 0.0740 - val_acc: 0.9767\n",
            "Epoch 21/100\n",
            "48/48 [==============================] - 30s 615ms/step - loss: 0.0716 - acc: 0.9848 - val_loss: 0.0819 - val_acc: 0.9721\n",
            "Epoch 22/100\n",
            "48/48 [==============================] - 30s 618ms/step - loss: 0.0666 - acc: 0.9854 - val_loss: 0.0697 - val_acc: 0.9767\n",
            "Epoch 23/100\n",
            "48/48 [==============================] - 30s 621ms/step - loss: 0.0673 - acc: 0.9861 - val_loss: 0.0717 - val_acc: 0.9721\n",
            "Epoch 24/100\n",
            "48/48 [==============================] - 30s 616ms/step - loss: 0.0671 - acc: 0.9835 - val_loss: 0.0773 - val_acc: 0.9814\n",
            "Epoch 25/100\n",
            "48/48 [==============================] - 30s 618ms/step - loss: 0.0630 - acc: 0.9828 - val_loss: 0.0682 - val_acc: 0.9860\n",
            "Epoch 26/100\n",
            "48/48 [==============================] - 30s 618ms/step - loss: 0.0640 - acc: 0.9848 - val_loss: 0.0849 - val_acc: 0.9674\n",
            "Epoch 27/100\n",
            "48/48 [==============================] - 30s 621ms/step - loss: 0.0671 - acc: 0.9808 - val_loss: 0.0623 - val_acc: 0.9860\n",
            "Epoch 28/100\n",
            "48/48 [==============================] - 30s 616ms/step - loss: 0.0595 - acc: 0.9841 - val_loss: 0.0514 - val_acc: 0.9907\n",
            "Epoch 29/100\n",
            "48/48 [==============================] - 30s 618ms/step - loss: 0.0587 - acc: 0.9828 - val_loss: 0.0657 - val_acc: 0.9814\n",
            "Epoch 30/100\n",
            "48/48 [==============================] - 30s 613ms/step - loss: 0.0536 - acc: 0.9874 - val_loss: 0.0611 - val_acc: 0.9767\n",
            "Epoch 31/100\n",
            "48/48 [==============================] - 30s 611ms/step - loss: 0.0595 - acc: 0.9821 - val_loss: 0.0560 - val_acc: 0.9907\n",
            "Epoch 32/100\n",
            "48/48 [==============================] - 30s 610ms/step - loss: 0.0579 - acc: 0.9835 - val_loss: 0.0437 - val_acc: 1.0000\n",
            "Epoch 33/100\n",
            "48/48 [==============================] - 30s 626ms/step - loss: 0.0572 - acc: 0.9835 - val_loss: 0.0565 - val_acc: 0.9860\n",
            "Epoch 34/100\n",
            "48/48 [==============================] - 30s 609ms/step - loss: 0.0551 - acc: 0.9848 - val_loss: 0.0521 - val_acc: 0.9860\n",
            "Epoch 35/100\n",
            "48/48 [==============================] - 30s 619ms/step - loss: 0.0554 - acc: 0.9828 - val_loss: 0.0659 - val_acc: 0.9767\n",
            "Epoch 36/100\n",
            "48/48 [==============================] - 29s 610ms/step - loss: 0.0553 - acc: 0.9835 - val_loss: 0.0625 - val_acc: 0.9767\n",
            "Epoch 37/100\n",
            "48/48 [==============================] - 30s 613ms/step - loss: 0.0555 - acc: 0.9828 - val_loss: 0.0649 - val_acc: 0.9814\n",
            "Epoch 38/100\n",
            "48/48 [==============================] - 30s 618ms/step - loss: 0.0514 - acc: 0.9835 - val_loss: 0.0652 - val_acc: 0.9674\n",
            "Epoch 39/100\n",
            "48/48 [==============================] - 30s 617ms/step - loss: 0.0516 - acc: 0.9828 - val_loss: 0.0707 - val_acc: 0.9721\n",
            "Epoch 40/100\n",
            "48/48 [==============================] - 30s 614ms/step - loss: 0.0530 - acc: 0.9868 - val_loss: 0.0599 - val_acc: 0.9767\n",
            "Epoch 41/100\n",
            "48/48 [==============================] - 30s 609ms/step - loss: 0.0488 - acc: 0.9861 - val_loss: 0.0609 - val_acc: 0.9721\n",
            "Epoch 42/100\n",
            "48/48 [==============================] - 30s 614ms/step - loss: 0.0464 - acc: 0.9874 - val_loss: 0.0585 - val_acc: 0.9814\n",
            "Epoch 43/100\n",
            "48/48 [==============================] - 30s 616ms/step - loss: 0.0520 - acc: 0.9861 - val_loss: 0.0484 - val_acc: 0.9814\n",
            "Epoch 44/100\n",
            "48/48 [==============================] - 29s 610ms/step - loss: 0.0534 - acc: 0.9848 - val_loss: 0.0506 - val_acc: 0.9860\n",
            "Epoch 45/100\n",
            "48/48 [==============================] - 30s 612ms/step - loss: 0.0429 - acc: 0.9874 - val_loss: 0.0632 - val_acc: 0.9721\n",
            "Epoch 46/100\n",
            "48/48 [==============================] - 30s 614ms/step - loss: 0.0428 - acc: 0.9828 - val_loss: 0.0441 - val_acc: 0.9814\n",
            "Epoch 47/100\n",
            "48/48 [==============================] - 30s 610ms/step - loss: 0.0417 - acc: 0.9861 - val_loss: 0.0492 - val_acc: 0.9814\n",
            "Epoch 48/100\n",
            "48/48 [==============================] - 30s 610ms/step - loss: 0.0490 - acc: 0.9828 - val_loss: 0.0488 - val_acc: 0.9814\n",
            "Epoch 49/100\n",
            "48/48 [==============================] - 30s 618ms/step - loss: 0.0407 - acc: 0.9914 - val_loss: 0.0742 - val_acc: 0.9721\n",
            "Epoch 50/100\n",
            "48/48 [==============================] - 30s 614ms/step - loss: 0.0431 - acc: 0.9887 - val_loss: 0.0488 - val_acc: 0.9860\n",
            "Epoch 51/100\n",
            "48/48 [==============================] - 30s 617ms/step - loss: 0.0406 - acc: 0.9887 - val_loss: 0.0612 - val_acc: 0.9721\n",
            "Epoch 52/100\n",
            "48/48 [==============================] - 30s 618ms/step - loss: 0.0433 - acc: 0.9868 - val_loss: 0.0425 - val_acc: 0.9953\n",
            "Epoch 53/100\n",
            "48/48 [==============================] - 30s 622ms/step - loss: 0.0380 - acc: 0.9874 - val_loss: 0.0599 - val_acc: 0.9814\n",
            "Epoch 54/100\n",
            "48/48 [==============================] - 30s 614ms/step - loss: 0.0408 - acc: 0.9868 - val_loss: 0.0509 - val_acc: 0.9767\n",
            "Epoch 55/100\n",
            "48/48 [==============================] - 30s 614ms/step - loss: 0.0423 - acc: 0.9887 - val_loss: 0.0433 - val_acc: 0.9860\n",
            "Epoch 56/100\n",
            "48/48 [==============================] - 30s 614ms/step - loss: 0.0462 - acc: 0.9854 - val_loss: 0.0626 - val_acc: 0.9767\n",
            "Epoch 57/100\n",
            "48/48 [==============================] - 30s 618ms/step - loss: 0.0398 - acc: 0.9907 - val_loss: 0.0507 - val_acc: 0.9814\n",
            "Epoch 58/100\n",
            "48/48 [==============================] - 30s 618ms/step - loss: 0.0414 - acc: 0.9854 - val_loss: 0.0444 - val_acc: 0.9814\n",
            "Epoch 59/100\n",
            "48/48 [==============================] - 30s 610ms/step - loss: 0.0385 - acc: 0.9854 - val_loss: 0.0526 - val_acc: 0.9814\n",
            "Epoch 60/100\n",
            "48/48 [==============================] - 30s 618ms/step - loss: 0.0346 - acc: 0.9874 - val_loss: 0.0578 - val_acc: 0.9860\n",
            "Epoch 61/100\n",
            "48/48 [==============================] - 30s 614ms/step - loss: 0.0410 - acc: 0.9901 - val_loss: 0.0526 - val_acc: 0.9814\n",
            "Epoch 62/100\n",
            "48/48 [==============================] - 30s 614ms/step - loss: 0.0364 - acc: 0.9881 - val_loss: 0.0495 - val_acc: 0.9814\n",
            "Epoch 63/100\n",
            "48/48 [==============================] - 30s 606ms/step - loss: 0.0357 - acc: 0.9901 - val_loss: 0.0503 - val_acc: 0.9814\n",
            "Epoch 64/100\n",
            "48/48 [==============================] - 30s 618ms/step - loss: 0.0343 - acc: 0.9907 - val_loss: 0.0467 - val_acc: 0.9721\n",
            "Epoch 65/100\n",
            "48/48 [==============================] - 30s 613ms/step - loss: 0.0439 - acc: 0.9841 - val_loss: 0.0539 - val_acc: 0.9721\n",
            "Epoch 66/100\n",
            "48/48 [==============================] - 30s 618ms/step - loss: 0.0362 - acc: 0.9887 - val_loss: 0.0284 - val_acc: 0.9953\n",
            "Epoch 67/100\n",
            "48/48 [==============================] - 30s 614ms/step - loss: 0.0421 - acc: 0.9835 - val_loss: 0.0358 - val_acc: 0.9907\n",
            "Epoch 68/100\n",
            "48/48 [==============================] - 30s 607ms/step - loss: 0.0361 - acc: 0.9914 - val_loss: 0.0476 - val_acc: 0.9814\n",
            "Epoch 69/100\n",
            "48/48 [==============================] - 30s 610ms/step - loss: 0.0352 - acc: 0.9914 - val_loss: 0.0660 - val_acc: 0.9721\n",
            "Epoch 70/100\n",
            "48/48 [==============================] - 29s 606ms/step - loss: 0.0390 - acc: 0.9874 - val_loss: 0.0244 - val_acc: 1.0000\n",
            "Epoch 71/100\n",
            "48/48 [==============================] - 30s 614ms/step - loss: 0.0364 - acc: 0.9901 - val_loss: 0.0440 - val_acc: 0.9860\n",
            "Epoch 72/100\n",
            "48/48 [==============================] - 30s 620ms/step - loss: 0.0381 - acc: 0.9848 - val_loss: 0.0623 - val_acc: 0.9721\n",
            "Epoch 73/100\n",
            "48/48 [==============================] - 30s 613ms/step - loss: 0.0315 - acc: 0.9914 - val_loss: 0.0326 - val_acc: 0.9953\n",
            "Epoch 74/100\n",
            "48/48 [==============================] - 30s 615ms/step - loss: 0.0329 - acc: 0.9921 - val_loss: 0.0373 - val_acc: 0.9907\n",
            "Epoch 75/100\n",
            "48/48 [==============================] - 30s 618ms/step - loss: 0.0319 - acc: 0.9881 - val_loss: 0.0492 - val_acc: 0.9814\n",
            "Epoch 76/100\n",
            "48/48 [==============================] - 30s 618ms/step - loss: 0.0385 - acc: 0.9887 - val_loss: 0.0360 - val_acc: 0.9860\n",
            "Epoch 77/100\n",
            "48/48 [==============================] - 30s 614ms/step - loss: 0.0323 - acc: 0.9914 - val_loss: 0.0403 - val_acc: 0.9814\n",
            "Epoch 78/100\n",
            "48/48 [==============================] - 30s 618ms/step - loss: 0.0302 - acc: 0.9921 - val_loss: 0.0496 - val_acc: 0.9674\n",
            "Epoch 79/100\n",
            "48/48 [==============================] - 30s 609ms/step - loss: 0.0312 - acc: 0.9901 - val_loss: 0.0405 - val_acc: 0.9814\n",
            "Epoch 80/100\n",
            "48/48 [==============================] - 30s 619ms/step - loss: 0.0339 - acc: 0.9868 - val_loss: 0.0400 - val_acc: 0.9860\n",
            "Epoch 81/100\n",
            "48/48 [==============================] - 30s 603ms/step - loss: 0.0324 - acc: 0.9887 - val_loss: 0.0376 - val_acc: 0.9860\n",
            "Epoch 82/100\n",
            "48/48 [==============================] - 30s 614ms/step - loss: 0.0297 - acc: 0.9940 - val_loss: 0.0567 - val_acc: 0.9674\n",
            "Epoch 83/100\n",
            "48/48 [==============================] - 30s 618ms/step - loss: 0.0312 - acc: 0.9914 - val_loss: 0.0584 - val_acc: 0.9721\n",
            "Epoch 84/100\n",
            "48/48 [==============================] - 30s 621ms/step - loss: 0.0325 - acc: 0.9914 - val_loss: 0.0406 - val_acc: 0.9767\n",
            "Epoch 85/100\n",
            "48/48 [==============================] - 32s 664ms/step - loss: 0.0343 - acc: 0.9894 - val_loss: 0.0622 - val_acc: 0.9721\n",
            "Epoch 86/100\n",
            "48/48 [==============================] - 31s 631ms/step - loss: 0.0341 - acc: 0.9881 - val_loss: 0.0561 - val_acc: 0.9721\n",
            "Epoch 87/100\n",
            "48/48 [==============================] - 30s 621ms/step - loss: 0.0343 - acc: 0.9881 - val_loss: 0.0438 - val_acc: 0.9767\n",
            "Epoch 88/100\n",
            "48/48 [==============================] - 30s 613ms/step - loss: 0.0257 - acc: 0.9921 - val_loss: 0.0315 - val_acc: 0.9907\n",
            "Epoch 89/100\n",
            "48/48 [==============================] - 30s 625ms/step - loss: 0.0303 - acc: 0.9894 - val_loss: 0.0569 - val_acc: 0.9674\n",
            "Epoch 90/100\n",
            "48/48 [==============================] - 30s 618ms/step - loss: 0.0294 - acc: 0.9894 - val_loss: 0.0407 - val_acc: 0.9860\n",
            "Epoch 91/100\n",
            "48/48 [==============================] - 30s 618ms/step - loss: 0.0252 - acc: 0.9947 - val_loss: 0.0492 - val_acc: 0.9767\n",
            "Epoch 92/100\n",
            "48/48 [==============================] - 30s 621ms/step - loss: 0.0338 - acc: 0.9894 - val_loss: 0.0446 - val_acc: 0.9767\n",
            "Epoch 93/100\n",
            "48/48 [==============================] - 29s 610ms/step - loss: 0.0341 - acc: 0.9907 - val_loss: 0.0488 - val_acc: 0.9721\n",
            "Epoch 94/100\n",
            "48/48 [==============================] - 30s 622ms/step - loss: 0.0318 - acc: 0.9907 - val_loss: 0.0404 - val_acc: 0.9860\n",
            "Epoch 95/100\n",
            "48/48 [==============================] - 30s 615ms/step - loss: 0.0280 - acc: 0.9914 - val_loss: 0.0410 - val_acc: 0.9814\n",
            "Epoch 96/100\n",
            "48/48 [==============================] - 30s 619ms/step - loss: 0.0324 - acc: 0.9887 - val_loss: 0.0453 - val_acc: 0.9721\n",
            "Epoch 97/100\n",
            "48/48 [==============================] - 30s 618ms/step - loss: 0.0299 - acc: 0.9907 - val_loss: 0.0328 - val_acc: 0.9953\n",
            "Epoch 98/100\n",
            "48/48 [==============================] - 30s 611ms/step - loss: 0.0277 - acc: 0.9927 - val_loss: 0.0277 - val_acc: 0.9860\n",
            "Epoch 99/100\n",
            "48/48 [==============================] - 30s 615ms/step - loss: 0.0325 - acc: 0.9874 - val_loss: 0.0420 - val_acc: 0.9767\n",
            "Epoch 100/100\n",
            "48/48 [==============================] - 30s 616ms/step - loss: 0.0312 - acc: 0.9887 - val_loss: 0.0550 - val_acc: 0.9767\n"
          ]
        }
      ],
      "source": [
        "results = model.fit(train_image_gen,epochs=100, validation_data=val_image_gen)"
      ]
    },
    {
      "cell_type": "code",
      "execution_count": null,
      "id": "ad456695",
      "metadata": {
        "id": "ad456695",
        "outputId": "faa2d043-81c5-4372-8a7f-791fb6328868"
      },
      "outputs": [
        {
          "data": {
            "text/html": [
              "<div>\n",
              "<style scoped>\n",
              "    .dataframe tbody tr th:only-of-type {\n",
              "        vertical-align: middle;\n",
              "    }\n",
              "\n",
              "    .dataframe tbody tr th {\n",
              "        vertical-align: top;\n",
              "    }\n",
              "\n",
              "    .dataframe thead th {\n",
              "        text-align: right;\n",
              "    }\n",
              "</style>\n",
              "<table border=\"1\" class=\"dataframe\">\n",
              "  <thead>\n",
              "    <tr style=\"text-align: right;\">\n",
              "      <th></th>\n",
              "      <th>loss</th>\n",
              "      <th>acc</th>\n",
              "      <th>val_loss</th>\n",
              "      <th>val_acc</th>\n",
              "    </tr>\n",
              "  </thead>\n",
              "  <tbody>\n",
              "    <tr>\n",
              "      <th>0</th>\n",
              "      <td>0.289131</td>\n",
              "      <td>0.922568</td>\n",
              "      <td>0.270289</td>\n",
              "      <td>0.906977</td>\n",
              "    </tr>\n",
              "    <tr>\n",
              "      <th>1</th>\n",
              "      <td>0.249646</td>\n",
              "      <td>0.929848</td>\n",
              "      <td>0.220522</td>\n",
              "      <td>0.948837</td>\n",
              "    </tr>\n",
              "    <tr>\n",
              "      <th>2</th>\n",
              "      <td>0.215227</td>\n",
              "      <td>0.951026</td>\n",
              "      <td>0.198870</td>\n",
              "      <td>0.944186</td>\n",
              "    </tr>\n",
              "    <tr>\n",
              "      <th>3</th>\n",
              "      <td>0.183860</td>\n",
              "      <td>0.960953</td>\n",
              "      <td>0.172021</td>\n",
              "      <td>0.972093</td>\n",
              "    </tr>\n",
              "    <tr>\n",
              "      <th>4</th>\n",
              "      <td>0.168565</td>\n",
              "      <td>0.961615</td>\n",
              "      <td>0.161957</td>\n",
              "      <td>0.948837</td>\n",
              "    </tr>\n",
              "    <tr>\n",
              "      <th>...</th>\n",
              "      <td>...</td>\n",
              "      <td>...</td>\n",
              "      <td>...</td>\n",
              "      <td>...</td>\n",
              "    </tr>\n",
              "    <tr>\n",
              "      <th>95</th>\n",
              "      <td>0.032420</td>\n",
              "      <td>0.988749</td>\n",
              "      <td>0.045277</td>\n",
              "      <td>0.972093</td>\n",
              "    </tr>\n",
              "    <tr>\n",
              "      <th>96</th>\n",
              "      <td>0.029894</td>\n",
              "      <td>0.990735</td>\n",
              "      <td>0.032799</td>\n",
              "      <td>0.995349</td>\n",
              "    </tr>\n",
              "    <tr>\n",
              "      <th>97</th>\n",
              "      <td>0.027710</td>\n",
              "      <td>0.992720</td>\n",
              "      <td>0.027707</td>\n",
              "      <td>0.986046</td>\n",
              "    </tr>\n",
              "    <tr>\n",
              "      <th>98</th>\n",
              "      <td>0.032511</td>\n",
              "      <td>0.987426</td>\n",
              "      <td>0.042039</td>\n",
              "      <td>0.976744</td>\n",
              "    </tr>\n",
              "    <tr>\n",
              "      <th>99</th>\n",
              "      <td>0.031245</td>\n",
              "      <td>0.988749</td>\n",
              "      <td>0.055030</td>\n",
              "      <td>0.976744</td>\n",
              "    </tr>\n",
              "  </tbody>\n",
              "</table>\n",
              "<p>100 rows × 4 columns</p>\n",
              "</div>"
            ],
            "text/plain": [
              "        loss       acc  val_loss   val_acc\n",
              "0   0.289131  0.922568  0.270289  0.906977\n",
              "1   0.249646  0.929848  0.220522  0.948837\n",
              "2   0.215227  0.951026  0.198870  0.944186\n",
              "3   0.183860  0.960953  0.172021  0.972093\n",
              "4   0.168565  0.961615  0.161957  0.948837\n",
              "..       ...       ...       ...       ...\n",
              "95  0.032420  0.988749  0.045277  0.972093\n",
              "96  0.029894  0.990735  0.032799  0.995349\n",
              "97  0.027710  0.992720  0.027707  0.986046\n",
              "98  0.032511  0.987426  0.042039  0.976744\n",
              "99  0.031245  0.988749  0.055030  0.976744\n",
              "\n",
              "[100 rows x 4 columns]"
            ]
          },
          "execution_count": 18,
          "metadata": {},
          "output_type": "execute_result"
        }
      ],
      "source": [
        "dataf = pd.DataFrame(model.history.history)\n",
        "dataf"
      ]
    },
    {
      "cell_type": "code",
      "execution_count": null,
      "id": "877a57df",
      "metadata": {
        "id": "877a57df",
        "outputId": "f9df38b2-4f0b-4598-d408-95ba67619c65"
      },
      "outputs": [
        {
          "data": {
            "text/plain": [
              "<AxesSubplot: >"
            ]
          },
          "execution_count": 19,
          "metadata": {},
          "output_type": "execute_result"
        },
        {
          "data": {
            "image/png": "[encoded data removed]",
            "text/plain": [
              "<Figure size 640x480 with 1 Axes>"
            ]
          },
          "metadata": {},
          "output_type": "display_data"
        }
      ],
      "source": [
        "dataf[['acc', 'val_acc']].plot()"
      ]
    },
    {
      "cell_type": "code",
      "execution_count": null,
      "id": "4d4fb2d7",
      "metadata": {
        "id": "4d4fb2d7",
        "outputId": "b647088c-e25d-4376-c66c-6a85f1fe49ed"
      },
      "outputs": [
        {
          "data": {
            "text/plain": [
              "<AxesSubplot: >"
            ]
          },
          "execution_count": 20,
          "metadata": {},
          "output_type": "execute_result"
        },
        {
          "data": {
            "image/png": "[encoded data removed]",
            "text/plain": [
              "<Figure size 640x480 with 1 Axes>"
            ]
          },
          "metadata": {},
          "output_type": "display_data"
        }
      ],
      "source": [
        "dataf[['loss', 'val_loss']].plot()"
      ]
    },
    {
      "cell_type": "code",
      "execution_count": null,
      "id": "02fe3f0b",
      "metadata": {
        "id": "02fe3f0b",
        "outputId": "cee59075-0555-48dd-89cd-5675fa6d141e"
      },
      "outputs": [
        {
          "name": "stdout",
          "output_type": "stream",
          "text": [
            "14/14 [==============================] - 8s 516ms/step\n"
          ]
        },
        {
          "data": {
            "text/plain": [
              "array([0, 0, 0, 0, 0, 0, 0, 0, 0, 0, 0, 0, 0, 0, 0, 0, 0, 0, 0, 0, 0, 0,\n",
              "       0, 0, 0, 0, 0, 0, 0, 0, 0, 0, 0, 0, 0, 0, 0, 0, 0, 0, 0, 0, 0, 0,\n",
              "       0, 0, 0, 0, 0, 0, 0, 0, 0, 0, 0, 0, 0, 0, 1, 0, 0, 0, 0, 0, 0, 0,\n",
              "       0, 0, 0, 0, 0, 0, 0, 0, 0, 0, 0, 0, 0, 0, 0, 0, 0, 0, 0, 0, 0, 0,\n",
              "       0, 0, 0, 0, 0, 0, 0, 0, 0, 0, 0, 0, 0, 0, 0, 0, 0, 0, 0, 0, 0, 0,\n",
              "       0, 0, 0, 0, 0, 0, 1, 1, 1, 1, 1, 1, 1, 1, 1, 1, 0, 1, 1, 1, 1, 1,\n",
              "       1, 1, 1, 1, 1, 1, 1, 1, 1, 1, 1, 1, 1, 1, 1, 1, 1, 1, 1, 1, 1, 1,\n",
              "       1, 1, 1, 1, 0, 1, 1, 1, 1, 1, 1, 1, 1, 1, 1, 1, 1, 1, 1, 1, 1, 1,\n",
              "       1, 1, 1, 1, 1, 1, 1, 1, 1, 1, 1, 1, 1, 1, 1, 1, 1, 1, 1, 1, 1, 1,\n",
              "       1, 1, 1, 1, 1, 1, 1, 1, 1, 1, 1, 1, 1, 1, 1, 1, 1, 1, 1, 1, 1, 1,\n",
              "       1, 1, 1, 1, 1, 1, 1, 1, 1, 1, 1, 1, 1, 1, 1, 1, 1, 1, 1, 1, 1, 1,\n",
              "       1, 1, 1, 1, 1, 1, 1, 1, 1, 1, 1, 1, 1, 1, 1, 1, 1, 1, 1, 1, 1, 1,\n",
              "       1, 1, 1, 1, 1, 1, 1, 1, 1, 1, 1, 1, 1, 1, 1, 1, 1, 1, 1, 1, 1, 1,\n",
              "       1, 1, 1, 1, 1, 1, 1, 1, 1, 1, 1, 1, 1, 1, 1, 1, 1, 1, 1, 1, 1, 1,\n",
              "       1, 1, 1, 1, 1, 1, 1, 1, 1, 1, 1, 1, 1, 1, 1, 1, 1, 1, 1, 1, 1, 1,\n",
              "       1, 1, 1, 1, 1, 1, 1, 1, 1, 1, 1, 1, 1, 1, 1, 1, 1, 1, 1, 1, 1, 1,\n",
              "       1, 1, 0, 1, 1, 1, 1, 1, 1, 1, 1, 1, 1, 1, 1, 1, 1, 1, 1, 1, 1, 1,\n",
              "       1, 1, 1, 1, 1, 1, 1, 1, 1, 1, 1, 1, 1, 1, 1, 1, 1, 1, 1, 1, 1, 1,\n",
              "       1, 1, 1, 1, 1, 1, 1, 1, 1, 1, 1, 1, 1, 1, 1, 1, 1, 1, 1, 1, 1, 1,\n",
              "       1, 1, 1, 1, 1, 1, 1, 1, 1, 1, 1, 1, 1, 1], dtype=int64)"
            ]
          },
          "execution_count": 22,
          "metadata": {},
          "output_type": "execute_result"
        }
      ],
      "source": [
        "predictions = np.argmax(model.predict(test_image_gen), axis = -1)\n",
        "predictions"
      ]
    },
    {
      "cell_type": "code",
      "execution_count": null,
      "id": "721996e0",
      "metadata": {
        "id": "721996e0",
        "outputId": "24d130bf-38bf-4f06-eb79-876ea99e3546"
      },
      "outputs": [
        {
          "name": "stdout",
          "output_type": "stream",
          "text": [
            "              precision    recall  f1-score   support\n",
            "\n",
            "           0       0.97      0.99      0.98       116\n",
            "           1       1.00      0.99      0.99       316\n",
            "\n",
            "    accuracy                           0.99       432\n",
            "   macro avg       0.99      0.99      0.99       432\n",
            "weighted avg       0.99      0.99      0.99       432\n",
            "\n"
          ]
        }
      ],
      "source": [
        "from sklearn.metrics import classification_report, confusion_matrix\n",
        "print(classification_report(test_image_gen.classes,predictions))"
      ]
    },
    {
      "cell_type": "code",
      "execution_count": null,
      "id": "b6f1b642",
      "metadata": {
        "id": "b6f1b642",
        "outputId": "21c42f18-360c-4868-e791-d576567c2130"
      },
      "outputs": [
        {
          "name": "stdout",
          "output_type": "stream",
          "text": [
            "Confusion matrix, without normalization\n",
            "[[115   1]\n",
            " [  3 313]]\n"
          ]
        },
        {
          "data": {
            "image/png": "[encoded data removed]",
            "text/plain": [
              "<Figure size 640x480 with 2 Axes>"
            ]
          },
          "metadata": {},
          "output_type": "display_data"
        }
      ],
      "source": [
        "import itertools\n",
        "def plot_confusion_matrix(cm, classes,\n",
        "                          normalize=False,\n",
        "                          title='Confusion matrix',\n",
        "                          cmap=plt.cm.Blues):\n",
        "    if normalize:\n",
        "        cm = cm.astype('float') / cm.sum(axis=1)[:, np.newaxis]\n",
        "        print(\"Normalized confusion matrix\")\n",
        "    else:\n",
        "        print('Confusion matrix, without normalization')\n",
        "\n",
        "    print(cm)\n",
        "\n",
        "    plt.imshow(cm, interpolation='nearest', cmap=cmap)\n",
        "    plt.title(title)\n",
        "    plt.colorbar()\n",
        "    tick_marks = np.arange(len(classes))\n",
        "    plt.xticks(tick_marks, classes, rotation=45)\n",
        "    plt.yticks(tick_marks, classes)\n",
        "\n",
        "    fmt = '.2f' if normalize else 'd'\n",
        "    thresh = cm.max() / 2.\n",
        "    for i, j in itertools.product(range(cm.shape[0]), range(cm.shape[1])):\n",
        "        plt.text(j, i, format(cm[i, j], fmt),\n",
        "                 horizontalalignment=\"center\",\n",
        "                 color=\"white\" if cm[i, j] > thresh else \"black\")\n",
        "\n",
        "    plt.tight_layout()\n",
        "    plt.ylabel('True label')\n",
        "    plt.xlabel('Predicted label')\n",
        "\n",
        "cnf_matrix=confusion_matrix(test_image_gen.classes,predictions)\n",
        "plot_confusion_matrix(cnf_matrix, classes=test_image_gen.class_indices)"
      ]
    }
  ],
  "metadata": {
    "kernelspec": {
      "display_name": "Python 3 (ipykernel)",
      "language": "python",
      "name": "python3"
    },
    "language_info": {
      "codemirror_mode": {
        "name": "ipython",
        "version": 3
      },
      "file_extension": ".py",
      "mimetype": "text/x-python",
      "name": "python",
      "nbconvert_exporter": "python",
      "pygments_lexer": "ipython3",
      "version": "3.10.0"
    },
    "colab": {
      "provenance": [],
      "collapsed_sections": [],
      "include_colab_link": true
    }
  },
  "nbformat": 4,
  "nbformat_minor": 5
}